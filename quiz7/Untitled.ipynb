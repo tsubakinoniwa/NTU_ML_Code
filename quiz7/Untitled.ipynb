{
 "cells": [
  {
   "cell_type": "markdown",
   "metadata": {},
   "source": [
    "# Quiz 7"
   ]
  },
  {
   "cell_type": "code",
   "execution_count": 33,
   "metadata": {},
   "outputs": [],
   "source": [
    "import numpy as np\n",
    "import pandas as pd\n",
    "from tqdm import trange\n",
    "from IPython.display import clear_output"
   ]
  },
  {
   "cell_type": "code",
   "execution_count": 34,
   "metadata": {},
   "outputs": [],
   "source": [
    "def load_data(data):\n",
    "    arr = pd.read_csv(data, header=None, sep=' ').to_numpy()\n",
    "    return arr[:,:-1], arr[:,-1]"
   ]
  },
  {
   "cell_type": "markdown",
   "metadata": {},
   "source": [
    "## Questions 13 - 15"
   ]
  },
  {
   "cell_type": "code",
   "execution_count": 94,
   "metadata": {},
   "outputs": [],
   "source": [
    "class DecisionTreeNode:\n",
    "    def __init__(self, i=None, s=None, theta=None):\n",
    "        self.i = i\n",
    "        self.s = s\n",
    "        self.theta = theta\n",
    "\n",
    "        self.false_branch = None\n",
    "        self.true_branch = None\n",
    "\n",
    "    def predict(self, X):\n",
    "        y_branch = self.s * np.sign(X[:, self.i] - self.theta)\n",
    "\n",
    "        false_inds = y_branch == -1\n",
    "        X_false = X[false_inds]\n",
    "        X_true = X[~false_inds]\n",
    "\n",
    "        false_pred = self.false_branch.predict(X_false)\n",
    "        true_pred = self.true_branch.predict(X_true)\n",
    "\n",
    "        false_ptr, true_ptr = 0, 0\n",
    "        y_pred = np.zeros(len(X))\n",
    "        for ptr in range(len(y_branch)):\n",
    "            if y_branch[ptr] == -1:\n",
    "                y_pred[ptr] = false_pred[false_ptr]\n",
    "                false_ptr += 1\n",
    "            else:\n",
    "                y_pred[ptr] = true_pred[true_ptr]\n",
    "                true_ptr += 1\n",
    "\n",
    "        return y_pred\n",
    "\n",
    "    def size(self):\n",
    "        return 1 + self.true_branch.size() + self.false_branch.size()\n",
    "\n",
    "        \n",
    "class DecisionTreeLeaf:\n",
    "    def __init__(self, const=None):\n",
    "        self.const = const\n",
    "\n",
    "    def predict(self, X):\n",
    "        return self.const * np.ones(len(X))\n",
    "\n",
    "    def size(self):\n",
    "        return 0"
   ]
  },
  {
   "cell_type": "code",
   "execution_count": 95,
   "metadata": {},
   "outputs": [],
   "source": [
    "X_train, y_train = load_data('train.dat')"
   ]
  },
  {
   "cell_type": "code",
   "execution_count": 96,
   "metadata": {
    "collapsed": false,
    "jupyter": {
     "outputs_hidden": false
    },
    "pycharm": {
     "name": "#%%\n"
    }
   },
   "outputs": [],
   "source": [
    "def impurity(y):\n",
    "    return 1 - (np.sum(y == 1) / len(y)) ** 2 - (np.sum(y == -1) / len(y)) ** 2"
   ]
  },
  {
   "cell_type": "code",
   "execution_count": 157,
   "metadata": {
    "pycharm": {
     "name": "#%%\n"
    }
   },
   "outputs": [],
   "source": [
    "def build_tree(X, y, prefix='', stop=False):\n",
    "    assert(len(X.shape) == 2)\n",
    "    assert(len(y.shape) == 1)\n",
    "\n",
    "    # Check if termination criteria are met.\n",
    "    if len(np.unique(X, axis=0)) == 1 or len(np.unique(y)) == 1 or stop:\n",
    "        y_mode = 1 if np.sum(y == 1) * 2 >= len(y) else -1\n",
    "        return DecisionTreeLeaf(y_mode)\n",
    "    \n",
    "    # Find the best decision stump based on Gini index and partition data\n",
    "    # according to the stump.\n",
    "    N = len(X)\n",
    "\n",
    "    segments = []\n",
    "    impurities = []\n",
    "\n",
    "    for i in range(2):\n",
    "        prev_impurity = -1\n",
    "\n",
    "        inds = np.argsort(X[:, i])\n",
    "        sorted_X, sorted_y = X[inds], y[inds]\n",
    "\n",
    "        for idx in range(len(X)-1):\n",
    "            this_impurity = impurity(sorted_y[:idx+1]) * (idx+1) + \\\n",
    "                            impurity(sorted_y[idx+1:]) * (N-idx-1)\n",
    "\n",
    "            if this_impurity != prev_impurity:\n",
    "                if segments and prev_impurity != -1:\n",
    "                    segments[-1][-1] = sorted_X[idx, i]\n",
    "                prev_impurity = this_impurity\n",
    "                segments.append([i, sorted_X[idx, i], None])\n",
    "                impurities.append(this_impurity)\n",
    "\n",
    "        segments[-1][-1] = sorted_X[-1, i]\n",
    "\n",
    "    assert(len(impurities) == len(segments))\n",
    "    chosen = np.argsort(impurities)[0]\n",
    "    i, left, right = segments[chosen]\n",
    "    assert(left <= right)\n",
    "    theta = (left + right) / 2\n",
    "\n",
    "    inds = np.argsort(X[:, i])\n",
    "    sorted_X, sorted_y = X[inds], y[inds]\n",
    "\n",
    "    y_branch = np.sign(sorted_X[:, i] - theta)\n",
    "    X_false, y_false = sorted_X[y_branch == -1], sorted_y[y_branch == -1]\n",
    "    X_true, y_true = sorted_X[y_branch == 1], sorted_y[y_branch == 1]\n",
    "\n",
    "    node = DecisionTreeNode(i, 1, theta)\n",
    "    node.false_branch = build_tree(X_false, y_false, prefix + '|--', False)\n",
    "    node.true_branch = build_tree(X_true, y_true, prefix + '|--', False)\n",
    "\n",
    "    return node"
   ]
  },
  {
   "cell_type": "code",
   "execution_count": 144,
   "metadata": {
    "collapsed": false,
    "jupyter": {
     "outputs_hidden": false
    },
    "pycharm": {
     "name": "#%%\n"
    }
   },
   "outputs": [
    {
     "name": "stdout",
     "output_type": "stream",
     "text": [
      "10\n"
     ]
    }
   ],
   "source": [
    "clf = build_tree(X_train, y_train)\n",
    "print(clf.size())"
   ]
  },
  {
   "cell_type": "code",
   "execution_count": 145,
   "metadata": {
    "collapsed": false,
    "jupyter": {
     "outputs_hidden": false
    },
    "pycharm": {
     "name": "#%%\n"
    }
   },
   "outputs": [
    {
     "data": {
      "text/plain": [
       "0"
      ]
     },
     "execution_count": 145,
     "metadata": {},
     "output_type": "execute_result"
    }
   ],
   "source": [
    "sum(clf.predict(X_train) != y_train)"
   ]
  },
  {
   "cell_type": "code",
   "execution_count": 146,
   "metadata": {
    "collapsed": false,
    "jupyter": {
     "outputs_hidden": false
    },
    "pycharm": {
     "name": "#%%\n"
    }
   },
   "outputs": [
    {
     "data": {
      "text/plain": [
       "0.126"
      ]
     },
     "execution_count": 146,
     "metadata": {},
     "output_type": "execute_result"
    }
   ],
   "source": [
    "X_test, y_test = load_data('test.dat')\n",
    "sum(clf.predict(X_test) != y_test) / len(X_test)"
   ]
  },
  {
   "cell_type": "markdown",
   "metadata": {
    "pycharm": {
     "name": "#%% md\n"
    }
   },
   "source": [
    "## Questions 16 - 18"
   ]
  },
  {
   "cell_type": "code",
   "execution_count": 147,
   "metadata": {},
   "outputs": [],
   "source": [
    "from concurrent.futures import ProcessPoolExecutor"
   ]
  },
  {
   "cell_type": "code",
   "execution_count": 158,
   "metadata": {
    "collapsed": false,
    "jupyter": {
     "outputs_hidden": false
    },
    "pycharm": {
     "name": "#%%\n"
    }
   },
   "outputs": [],
   "source": [
    "class RandomForest:\n",
    "    def __init__(self):\n",
    "        self.trees = []\n",
    "\n",
    "    def train(self, X, y, T, prefix=''):\n",
    "#         progress = '|/-\\\\|'\n",
    "        E_ins = 0\n",
    "        for t in range(T):\n",
    "            # Sample data by bagging\n",
    "            bagging_idx = np.random.randint(0, len(X), len(X))\n",
    "            X_bag, y_bag = X[bagging_idx].copy(), y[bagging_idx].copy()\n",
    "\n",
    "            # Build new tree\n",
    "#             if t % 50 == 0:\n",
    "#                 clear_output(wait=True)\n",
    "#                 print(f'{prefix} {progress[(t // 50) % len(progress)]}')\n",
    "            self.trees.append(build_tree(X_bag, y_bag))\n",
    "            E_ins += np.sum(self.trees[-1].predict(X) != y) / len(y)\n",
    "        \n",
    "        return E_ins / T\n",
    "\n",
    "    def predict(self, X):\n",
    "        preds = np.zeros((len(self.trees), len(X)))\n",
    "        for i, t in enumerate(self.trees):\n",
    "            preds[i] = t.predict(X.copy())\n",
    "            \n",
    "        return np.sign(np.sum(preds, axis=0))"
   ]
  },
  {
   "cell_type": "code",
   "execution_count": 159,
   "metadata": {},
   "outputs": [],
   "source": [
    "def proc_main():\n",
    "    X_train, y_train = load_data('train.dat')\n",
    "    X_test, y_test = load_data('test.dat')\n",
    "\n",
    "    E_ins, E_outs = [], []\n",
    "    E_ingt = 0\n",
    "    for rep in trange(10):\n",
    "        rf = RandomForest()\n",
    "        E_ingt += rf.train(X_train.copy(), y_train.copy(), 300)\n",
    "\n",
    "        E_ins.append(np.sum(rf.predict(X_train) != y_train) / len(y_train))\n",
    "        E_outs.append(np.sum(rf.predict(X_test) != y_test) / len(y_test))\n",
    "\n",
    "    return E_ingt / 10, np.average(E_ins), np.average(E_outs)"
   ]
  },
  {
   "cell_type": "code",
   "execution_count": 160,
   "metadata": {},
   "outputs": [
    {
     "name": "stderr",
     "output_type": "stream",
     "text": [
      "100%|██████████| 10/10 [03:18<00:00, 19.86s/it]\n",
      "100%|██████████| 10/10 [03:18<00:00, 19.86s/it]\n",
      "100%|██████████| 10/10 [03:18<00:00, 19.89s/it]\n",
      "100%|██████████| 10/10 [03:19<00:00, 19.92s/it]\n",
      "100%|██████████| 10/10 [03:19<00:00, 19.93s/it]\n",
      "100%|██████████| 10/10 [03:19<00:00, 19.93s/it]\n",
      "100%|██████████| 10/10 [03:19<00:00, 19.93s/it]\n",
      "100%|██████████| 10/10 [03:19<00:00, 19.95s/it]\n",
      "100%|██████████| 10/10 [03:19<00:00, 19.95s/it]\n",
      "100%|██████████| 10/10 [03:19<00:00, 19.96s/it]\n"
     ]
    },
    {
     "name": "stdout",
     "output_type": "stream",
     "text": [
      "0.05187333333333327 0.0 0.0743\n"
     ]
    }
   ],
   "source": [
    "with ProcessPoolExecutor() as exe:\n",
    "    ftrs = []\n",
    "    for _ in range(10):\n",
    "        ftrs.append(exe.submit(proc_main))\n",
    "    \n",
    "    E_ingt, E_ins, E_outs = 0, 0, 0\n",
    "    for ftr in ftrs:\n",
    "        a, b, c = ftr.result()\n",
    "        E_ingt, E_ins, E_outs = E_ingt + a, E_ins + b, E_outs + c\n",
    "    \n",
    "    print(E_ingt / 10, E_ins / 10, E_outs / 10)"
   ]
  },
  {
   "cell_type": "code",
   "execution_count": null,
   "metadata": {},
   "outputs": [],
   "source": [
    "with ProcessPoolExecutor() as exe:\n",
    "    ftrs = []\n",
    "    for _ in range(10):\n",
    "        ftrs.append(exe.submit(proc_main))\n",
    "    \n",
    "    E_ingt, E_ins, E_outs = 0, 0, 0\n",
    "    for ftr in ftrs:\n",
    "        a, b, c = ftr.result()\n",
    "        E_ingt, E_ins, E_outs = E_ingt + a, E_ins + b, E_outs + c\n",
    "    \n",
    "    print(E_ingt / 10, E_ins / 10, E_outs / 10)"
   ]
  },
  {
   "cell_type": "code",
   "execution_count": 137,
   "metadata": {
    "collapsed": false,
    "jupyter": {
     "outputs_hidden": false
    },
    "pycharm": {
     "name": "#%%\n"
    }
   },
   "outputs": [
    {
     "name": "stderr",
     "output_type": "stream",
     "text": [
      "  2%|▏         | 2/100 [00:05<04:14,  2.60s/it]\n"
     ]
    },
    {
     "ename": "KeyboardInterrupt",
     "evalue": "",
     "output_type": "error",
     "traceback": [
      "\u001b[0;31m---------------------------------------------------------------------------\u001b[0m",
      "\u001b[0;31mKeyboardInterrupt\u001b[0m                         Traceback (most recent call last)",
      "\u001b[0;32m<ipython-input-137-9b1afdbc592e>\u001b[0m in \u001b[0;36m<module>\u001b[0;34m\u001b[0m\n\u001b[1;32m      6\u001b[0m \u001b[0;32mfor\u001b[0m \u001b[0mrep\u001b[0m \u001b[0;32min\u001b[0m \u001b[0mtrange\u001b[0m\u001b[0;34m(\u001b[0m\u001b[0;36m100\u001b[0m\u001b[0;34m)\u001b[0m\u001b[0;34m:\u001b[0m\u001b[0;34m\u001b[0m\u001b[0;34m\u001b[0m\u001b[0m\n\u001b[1;32m      7\u001b[0m     \u001b[0mrf\u001b[0m \u001b[0;34m=\u001b[0m \u001b[0mRandomForest\u001b[0m\u001b[0;34m(\u001b[0m\u001b[0;34m)\u001b[0m\u001b[0;34m\u001b[0m\u001b[0;34m\u001b[0m\u001b[0m\n\u001b[0;32m----> 8\u001b[0;31m     \u001b[0mrf\u001b[0m\u001b[0;34m.\u001b[0m\u001b[0mtrain\u001b[0m\u001b[0;34m(\u001b[0m\u001b[0mX_train\u001b[0m\u001b[0;34m.\u001b[0m\u001b[0mcopy\u001b[0m\u001b[0;34m(\u001b[0m\u001b[0;34m)\u001b[0m\u001b[0;34m,\u001b[0m \u001b[0my_train\u001b[0m\u001b[0;34m.\u001b[0m\u001b[0mcopy\u001b[0m\u001b[0;34m(\u001b[0m\u001b[0;34m)\u001b[0m\u001b[0;34m,\u001b[0m \u001b[0;36m300\u001b[0m\u001b[0;34m,\u001b[0m \u001b[0;34mf'Building forest {rep+1} / {100}'\u001b[0m\u001b[0;34m)\u001b[0m\u001b[0;34m\u001b[0m\u001b[0;34m\u001b[0m\u001b[0m\n\u001b[0m\u001b[1;32m      9\u001b[0m \u001b[0;34m\u001b[0m\u001b[0m\n\u001b[1;32m     10\u001b[0m     \u001b[0mE_ins\u001b[0m\u001b[0;34m.\u001b[0m\u001b[0mappend\u001b[0m\u001b[0;34m(\u001b[0m\u001b[0mnp\u001b[0m\u001b[0;34m.\u001b[0m\u001b[0msum\u001b[0m\u001b[0;34m(\u001b[0m\u001b[0mrf\u001b[0m\u001b[0;34m.\u001b[0m\u001b[0mpredict\u001b[0m\u001b[0;34m(\u001b[0m\u001b[0mX_train\u001b[0m\u001b[0;34m)\u001b[0m \u001b[0;34m!=\u001b[0m \u001b[0my_train\u001b[0m\u001b[0;34m)\u001b[0m \u001b[0;34m/\u001b[0m \u001b[0mlen\u001b[0m\u001b[0;34m(\u001b[0m\u001b[0my_train\u001b[0m\u001b[0;34m)\u001b[0m\u001b[0;34m)\u001b[0m\u001b[0;34m\u001b[0m\u001b[0;34m\u001b[0m\u001b[0m\n",
      "\u001b[0;32m<ipython-input-135-799fc2866e2c>\u001b[0m in \u001b[0;36mtrain\u001b[0;34m(self, X, y, T, prefix)\u001b[0m\n\u001b[1;32m     15\u001b[0m \u001b[0;31m#                 clear_output(wait=True)\u001b[0m\u001b[0;34m\u001b[0m\u001b[0;34m\u001b[0m\u001b[0;34m\u001b[0m\u001b[0m\n\u001b[1;32m     16\u001b[0m \u001b[0;31m#                 print(f'{prefix} {progress[(t // 50) % len(progress)]}')\u001b[0m\u001b[0;34m\u001b[0m\u001b[0;34m\u001b[0m\u001b[0;34m\u001b[0m\u001b[0m\n\u001b[0;32m---> 17\u001b[0;31m             \u001b[0mself\u001b[0m\u001b[0;34m.\u001b[0m\u001b[0mtrees\u001b[0m\u001b[0;34m.\u001b[0m\u001b[0mappend\u001b[0m\u001b[0;34m(\u001b[0m\u001b[0mbuild_tree\u001b[0m\u001b[0;34m(\u001b[0m\u001b[0mX_bag\u001b[0m\u001b[0;34m,\u001b[0m \u001b[0my_bag\u001b[0m\u001b[0;34m)\u001b[0m\u001b[0;34m)\u001b[0m\u001b[0;34m\u001b[0m\u001b[0;34m\u001b[0m\u001b[0m\n\u001b[0m\u001b[1;32m     18\u001b[0m             \u001b[0mE_ins\u001b[0m\u001b[0;34m.\u001b[0m\u001b[0mappend\u001b[0m\u001b[0;34m(\u001b[0m\u001b[0;34m(\u001b[0m\u001b[0mself\u001b[0m\u001b[0;34m.\u001b[0m\u001b[0mtrees\u001b[0m\u001b[0;34m[\u001b[0m\u001b[0;34m-\u001b[0m\u001b[0;36m1\u001b[0m\u001b[0;34m]\u001b[0m\u001b[0;34m.\u001b[0m\u001b[0mpredict\u001b[0m\u001b[0;34m(\u001b[0m\u001b[0mX_bag\u001b[0m\u001b[0;34m)\u001b[0m \u001b[0;34m!=\u001b[0m \u001b[0my_bag\u001b[0m\u001b[0;34m)\u001b[0m \u001b[0;34m/\u001b[0m \u001b[0mlen\u001b[0m\u001b[0;34m(\u001b[0m\u001b[0my_bag\u001b[0m\u001b[0;34m)\u001b[0m\u001b[0;34m)\u001b[0m\u001b[0;34m\u001b[0m\u001b[0;34m\u001b[0m\u001b[0m\n\u001b[1;32m     19\u001b[0m \u001b[0;34m\u001b[0m\u001b[0m\n",
      "\u001b[0;32m<ipython-input-134-a4c4f21d43d2>\u001b[0m in \u001b[0;36mbuild_tree\u001b[0;34m(X, y, prefix, stop)\u001b[0m\n\u001b[1;32m     22\u001b[0m \u001b[0;34m\u001b[0m\u001b[0m\n\u001b[1;32m     23\u001b[0m         \u001b[0;32mfor\u001b[0m \u001b[0midx\u001b[0m \u001b[0;32min\u001b[0m \u001b[0mrange\u001b[0m\u001b[0;34m(\u001b[0m\u001b[0mlen\u001b[0m\u001b[0;34m(\u001b[0m\u001b[0mX\u001b[0m\u001b[0;34m)\u001b[0m\u001b[0;34m-\u001b[0m\u001b[0;36m1\u001b[0m\u001b[0;34m)\u001b[0m\u001b[0;34m:\u001b[0m\u001b[0;34m\u001b[0m\u001b[0;34m\u001b[0m\u001b[0m\n\u001b[0;32m---> 24\u001b[0;31m             \u001b[0mthis_impurity\u001b[0m \u001b[0;34m=\u001b[0m \u001b[0mimpurity\u001b[0m\u001b[0;34m(\u001b[0m\u001b[0msorted_y\u001b[0m\u001b[0;34m[\u001b[0m\u001b[0;34m:\u001b[0m\u001b[0midx\u001b[0m\u001b[0;34m+\u001b[0m\u001b[0;36m1\u001b[0m\u001b[0;34m]\u001b[0m\u001b[0;34m)\u001b[0m \u001b[0;34m*\u001b[0m \u001b[0;34m(\u001b[0m\u001b[0midx\u001b[0m\u001b[0;34m+\u001b[0m\u001b[0;36m1\u001b[0m\u001b[0;34m)\u001b[0m \u001b[0;34m+\u001b[0m\u001b[0;31m \u001b[0m\u001b[0;31m\\\u001b[0m\u001b[0;34m\u001b[0m\u001b[0;34m\u001b[0m\u001b[0m\n\u001b[0m\u001b[1;32m     25\u001b[0m                             \u001b[0mimpurity\u001b[0m\u001b[0;34m(\u001b[0m\u001b[0msorted_y\u001b[0m\u001b[0;34m[\u001b[0m\u001b[0midx\u001b[0m\u001b[0;34m+\u001b[0m\u001b[0;36m1\u001b[0m\u001b[0;34m:\u001b[0m\u001b[0;34m]\u001b[0m\u001b[0;34m)\u001b[0m \u001b[0;34m*\u001b[0m \u001b[0;34m(\u001b[0m\u001b[0mN\u001b[0m\u001b[0;34m-\u001b[0m\u001b[0midx\u001b[0m\u001b[0;34m-\u001b[0m\u001b[0;36m1\u001b[0m\u001b[0;34m)\u001b[0m\u001b[0;34m\u001b[0m\u001b[0;34m\u001b[0m\u001b[0m\n\u001b[1;32m     26\u001b[0m \u001b[0;34m\u001b[0m\u001b[0m\n",
      "\u001b[0;32m<ipython-input-96-2c89789ef172>\u001b[0m in \u001b[0;36mimpurity\u001b[0;34m(y)\u001b[0m\n\u001b[1;32m      1\u001b[0m \u001b[0;32mdef\u001b[0m \u001b[0mimpurity\u001b[0m\u001b[0;34m(\u001b[0m\u001b[0my\u001b[0m\u001b[0;34m)\u001b[0m\u001b[0;34m:\u001b[0m\u001b[0;34m\u001b[0m\u001b[0;34m\u001b[0m\u001b[0m\n\u001b[0;32m----> 2\u001b[0;31m     \u001b[0;32mreturn\u001b[0m \u001b[0;36m1\u001b[0m \u001b[0;34m-\u001b[0m \u001b[0;34m(\u001b[0m\u001b[0mnp\u001b[0m\u001b[0;34m.\u001b[0m\u001b[0msum\u001b[0m\u001b[0;34m(\u001b[0m\u001b[0my\u001b[0m \u001b[0;34m==\u001b[0m \u001b[0;36m1\u001b[0m\u001b[0;34m)\u001b[0m \u001b[0;34m/\u001b[0m \u001b[0mlen\u001b[0m\u001b[0;34m(\u001b[0m\u001b[0my\u001b[0m\u001b[0;34m)\u001b[0m\u001b[0;34m)\u001b[0m \u001b[0;34m**\u001b[0m \u001b[0;36m2\u001b[0m \u001b[0;34m-\u001b[0m \u001b[0;34m(\u001b[0m\u001b[0mnp\u001b[0m\u001b[0;34m.\u001b[0m\u001b[0msum\u001b[0m\u001b[0;34m(\u001b[0m\u001b[0my\u001b[0m \u001b[0;34m==\u001b[0m \u001b[0;34m-\u001b[0m\u001b[0;36m1\u001b[0m\u001b[0;34m)\u001b[0m \u001b[0;34m/\u001b[0m \u001b[0mlen\u001b[0m\u001b[0;34m(\u001b[0m\u001b[0my\u001b[0m\u001b[0;34m)\u001b[0m\u001b[0;34m)\u001b[0m \u001b[0;34m**\u001b[0m \u001b[0;36m2\u001b[0m\u001b[0;34m\u001b[0m\u001b[0;34m\u001b[0m\u001b[0m\n\u001b[0m",
      "\u001b[0;32m<__array_function__ internals>\u001b[0m in \u001b[0;36msum\u001b[0;34m(*args, **kwargs)\u001b[0m\n",
      "\u001b[0;32m~/opt/anaconda3/lib/python3.7/site-packages/numpy/core/fromnumeric.py\u001b[0m in \u001b[0;36m_sum_dispatcher\u001b[0;34m(a, axis, dtype, out, keepdims, initial, where)\u001b[0m\n\u001b[1;32m   2085\u001b[0m \u001b[0;34m\u001b[0m\u001b[0m\n\u001b[1;32m   2086\u001b[0m \u001b[0;34m\u001b[0m\u001b[0m\n\u001b[0;32m-> 2087\u001b[0;31m def _sum_dispatcher(a, axis=None, dtype=None, out=None, keepdims=None,\n\u001b[0m\u001b[1;32m   2088\u001b[0m                     initial=None, where=None):\n\u001b[1;32m   2089\u001b[0m     \u001b[0;32mreturn\u001b[0m \u001b[0;34m(\u001b[0m\u001b[0ma\u001b[0m\u001b[0;34m,\u001b[0m \u001b[0mout\u001b[0m\u001b[0;34m)\u001b[0m\u001b[0;34m\u001b[0m\u001b[0;34m\u001b[0m\u001b[0m\n",
      "\u001b[0;31mKeyboardInterrupt\u001b[0m: "
     ]
    }
   ],
   "source": [
    "X_train, y_train = load_data('train.dat')\n",
    "X_test, y_test = load_data('test.dat')\n",
    "\n",
    "E_ins, E_outs = [], []\n",
    "\n",
    "for rep in trange(100):\n",
    "    rf = RandomForest()\n",
    "    rf.train(X_train.copy(), y_train.copy(), 300, f'Building forest {rep+1} / {100}')\n",
    "\n",
    "    E_ins.append(np.sum(rf.predict(X_train) != y_train) / len(y_train))\n",
    "    E_outs.append(np.sum(rf.predict(X_test) != y_test) / len(y_test))\n",
    "\n",
    "print(np.average(E_ins))\n",
    "print(np.average(E_outs))"
   ]
  },
  {
   "cell_type": "code",
   "execution_count": 44,
   "metadata": {
    "collapsed": false,
    "jupyter": {
     "outputs_hidden": false
    },
    "pycharm": {
     "name": "#%%"
    }
   },
   "outputs": [
    {
     "data": {
      "text/plain": [
       "array([ 9, 12])"
      ]
     },
     "execution_count": 44,
     "metadata": {},
     "output_type": "execute_result"
    }
   ],
   "source": [
    "np.sum(np.array([[1,2],[3,4],[5,6]]), axis=0)"
   ]
  },
  {
   "cell_type": "code",
   "execution_count": 51,
   "metadata": {},
   "outputs": [],
   "source": [
    "x = np.random.random(2)"
   ]
  },
  {
   "cell_type": "code",
   "execution_count": 61,
   "metadata": {},
   "outputs": [
    {
     "name": "stdout",
     "output_type": "stream",
     "text": [
      "[0.6137593  0.49641294]\n"
     ]
    }
   ],
   "source": [
    "print(x)"
   ]
  },
  {
   "cell_type": "code",
   "execution_count": 71,
   "metadata": {},
   "outputs": [
    {
     "data": {
      "text/plain": [
       "array([[0.6137593 , 0.49641294],\n",
       "       [1.22751859, 0.99282587]])"
      ]
     },
     "execution_count": 71,
     "metadata": {},
     "output_type": "execute_result"
    }
   ],
   "source": [
    "np.unique(np.array([x, x, 2*x]), axis=0)"
   ]
  },
  {
   "cell_type": "code",
   "execution_count": null,
   "metadata": {},
   "outputs": [],
   "source": []
  }
 ],
 "metadata": {
  "kernelspec": {
   "display_name": "Python 3.7.4 64-bit ('base': conda)",
   "language": "python",
   "name": "python37464bitbaseconda85de8b719a9b4cb4989ba1ba956dbbf7"
  },
  "language_info": {
   "codemirror_mode": {
    "name": "ipython",
    "version": 3
   },
   "file_extension": ".py",
   "mimetype": "text/x-python",
   "name": "python",
   "nbconvert_exporter": "python",
   "pygments_lexer": "ipython3",
   "version": "3.7.4"
  },
  "widgets": {
   "application/vnd.jupyter.widget-state+json": {
    "state": {},
    "version_major": 2,
    "version_minor": 0
   }
  }
 },
 "nbformat": 4,
 "nbformat_minor": 4
}
