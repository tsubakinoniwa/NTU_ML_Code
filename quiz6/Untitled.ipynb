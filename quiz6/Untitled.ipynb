{
 "cells": [
  {
   "cell_type": "code",
   "execution_count": 147,
   "metadata": {},
   "outputs": [],
   "source": [
    "import numpy as np\n",
    "import pandas as pd"
   ]
  },
  {
   "cell_type": "markdown",
   "metadata": {},
   "source": [
    "## Question 12"
   ]
  },
  {
   "cell_type": "code",
   "execution_count": 148,
   "metadata": {},
   "outputs": [],
   "source": [
    "def load_data(file):\n",
    "    data = pd.read_csv(file, header=None, sep=' ').to_numpy()\n",
    "    return data[:, :-1], data[:, -1]"
   ]
  },
  {
   "cell_type": "code",
   "execution_count": 149,
   "metadata": {},
   "outputs": [],
   "source": [
    "class WeightedStump:\n",
    "    def __init__(self):\n",
    "        self.s = -1\n",
    "        self.d = -1\n",
    "        self.theta = -float('inf')\n",
    "    \n",
    "    \n",
    "    def fit(self, X, y, u):\n",
    "        N, D = X.shape\n",
    "        Etrain = float('inf')\n",
    "        eps = -1\n",
    "        \n",
    "        for d in range(D):\n",
    "#             inds = np.argsort(X[:,d])\n",
    "#             X, y = X[inds], y.reshape(N, 1)[inds].reshape(N,)\n",
    "            \n",
    "            feats = np.sort(np.unique(X[:,d]))\n",
    "            thetas = []\n",
    "            for a, b in zip(feats[:-1], feats[1:]):\n",
    "                thetas.append((b+a)/2)\n",
    "            thetas = [feats[0]-1, *thetas]\n",
    "            \n",
    "#             print(thetas)\n",
    "            \n",
    "            for theta in thetas:\n",
    "                for s in {-1, 1}:\n",
    "                    yhat = s * np.sign(X[:,d]-theta)\n",
    "                    E = np.average(u * (yhat != y))\n",
    "                    if E < Etrain:\n",
    "#                         print('(*)', end=' ')\n",
    "                        Etrain = E\n",
    "                        self.s = s\n",
    "                        self.d = d\n",
    "                        self.theta = theta\n",
    "#                     print(E)\n",
    "        \n",
    "        return Etrain\n",
    "    \n",
    "    \n",
    "    def predict(self, X):\n",
    "        return self.s * np.sign(X[:, self.d]-self.theta)"
   ]
  },
  {
   "cell_type": "code",
   "execution_count": 150,
   "metadata": {},
   "outputs": [
    {
     "data": {
      "text/plain": [
       "array([-1., -1., -1.,  1.])"
      ]
     },
     "execution_count": 150,
     "metadata": {},
     "output_type": "execute_result"
    }
   ],
   "source": [
    "Xtrain = np.array([[1, 1], [2, 1], [3, 1], [4, 1]])\n",
    "ytrain = np.array([1, -1, -1, 1])\n",
    "clf = WeightedStump()\n",
    "clf.fit(Xtrain, ytrain, np.array([1, 1000, 100, 100]))\n",
    "clf.predict(Xtrain)"
   ]
  },
  {
   "cell_type": "code",
   "execution_count": 167,
   "metadata": {},
   "outputs": [
    {
     "name": "stdout",
     "output_type": "stream",
     "text": [
      "Ein(g1) = 0.24\n"
     ]
    }
   ],
   "source": [
    "Xtrain, ytrain = load_data('hw2_adaboost_train.dat')\n",
    "u = np.ones(len(Xtrain)) / len(Xtrain)\n",
    "gs = []\n",
    "alphas = []\n",
    "us = []\n",
    "epss = []\n",
    "for t in range(300):\n",
    "    us.append(u.copy())\n",
    "    clf = WeightedStump()\n",
    "    Etrain = clf.fit(Xtrain, ytrain, u)\n",
    "    gs.append(clf)\n",
    "    \n",
    "    eps_t = Etrain * len(Xtrain) / np.sum(u)\n",
    "    scale = np.sqrt((1 - eps_t) / eps_t)\n",
    "    alphas.append(np.log(scale))\n",
    "    epss.append(eps_t)\n",
    "    \n",
    "    yhat = clf.predict(Xtrain)\n",
    "    for i in range(len(Xtrain)):\n",
    "        if yhat[i] == ytrain[i]:\n",
    "            u[i] /= scale\n",
    "        else:\n",
    "            u[i] *= scale\n",
    "            \n",
    "    \n",
    "    if t == 0:  # Q12\n",
    "        print('Ein(g1) =', np.average(yhat != ytrain))"
   ]
  },
  {
   "cell_type": "code",
   "execution_count": 162,
   "metadata": {},
   "outputs": [
    {
     "name": "stdout",
     "output_type": "stream",
     "text": [
      "Ein(G) = 0.0\n"
     ]
    }
   ],
   "source": [
    "# Predict\n",
    "yhat = np.zeros(ytrain.shape)\n",
    "for t in range(300):\n",
    "    yhat += alphas[t] * gs[t].predict(Xtrain)\n",
    "yhat = np.sign(yhat)\n",
    "print('Ein(G) =', np.average(yhat != ytrain))"
   ]
  },
  {
   "cell_type": "code",
   "execution_count": 164,
   "metadata": {},
   "outputs": [
    {
     "data": {
      "text/plain": [
       "0.8541662601625051"
      ]
     },
     "execution_count": 164,
     "metadata": {},
     "output_type": "execute_result"
    }
   ],
   "source": [
    "np.sum(us[1])"
   ]
  },
  {
   "cell_type": "code",
   "execution_count": 168,
   "metadata": {},
   "outputs": [
    {
     "data": {
      "text/plain": [
       "0.1787280701754386"
      ]
     },
     "execution_count": 168,
     "metadata": {},
     "output_type": "execute_result"
    }
   ],
   "source": [
    "min(epss)"
   ]
  },
  {
   "cell_type": "code",
   "execution_count": 169,
   "metadata": {},
   "outputs": [],
   "source": [
    "Xtest, ytest = load_data('hw2_adaboost_test.dat')"
   ]
  },
  {
   "cell_type": "code",
   "execution_count": 174,
   "metadata": {},
   "outputs": [
    {
     "name": "stdout",
     "output_type": "stream",
     "text": [
      "Eout(G) = 0.132\n"
     ]
    }
   ],
   "source": [
    "# Predict\n",
    "yhat = np.zeros(ytest.shape)\n",
    "for t in range(300):\n",
    "    yhat += alphas[t] * gs[t].predict(Xtest)\n",
    "yhat = np.sign(yhat)\n",
    "print('Eout(G) =', np.average(yhat != ytest))"
   ]
  },
  {
   "cell_type": "markdown",
   "metadata": {},
   "source": [
    "## Question 19"
   ]
  },
  {
   "cell_type": "code",
   "execution_count": 222,
   "metadata": {},
   "outputs": [],
   "source": [
    "data = pd.read_csv('hw2_lssvm_all.dat', header=None, sep=' ')\n",
    "data[data.columns[0]] = 1\n",
    "data = data.to_numpy()\n",
    "X, y = data[:,:-1], data[:,-1]\n",
    "Xtrain, ytrain = X[:400,:], y[:400]\n",
    "Xtest, ytest = X[400:,:], y[400:]"
   ]
  },
  {
   "cell_type": "code",
   "execution_count": 228,
   "metadata": {},
   "outputs": [
    {
     "name": "stdout",
     "output_type": "stream",
     "text": [
      "0.0\n",
      "0.39\n"
     ]
    }
   ],
   "source": [
    "gammas = [32, 2, 0.125]\n",
    "lambdas = [0.001, 1, 1000]\n",
    "\n",
    "Ein = float('inf')\n",
    "Eout = float('inf')\n",
    "\n",
    "# Train\n",
    "for g in gammas:\n",
    "    Nt = len(Xtrain)\n",
    "    K = np.zeros((Nt, Nt))\n",
    "    for i in range(Nt):\n",
    "        for j in range(Nt):\n",
    "            K[i,j] = np.exp(-g*(np.linalg.norm(Xtrain[i] - Xtrain[j]) ** 2))\n",
    "    \n",
    "    for l in lambdas:\n",
    "        beta = np.linalg.pinv(l*np.eye(Nt) + K) @ ytrain\n",
    "        \n",
    "        # Test\n",
    "        yhat = np.zeros(Nt)\n",
    "        for i in range(Nt):\n",
    "            for j in range(Nt):\n",
    "                yhat[i] += beta[j] * K[i,j]\n",
    "        yhat = np.sign(yhat)\n",
    "        E = np.average(yhat != ytrain)\n",
    "        Ein = min(E, Ein)\n",
    "        \n",
    "        yhat = np.zeros(len(Xtest))\n",
    "        for i in range(len(Xtest)):\n",
    "            for j in range(Nt):\n",
    "                yhat[i] += beta[j] * np.exp(-g*(np.linalg.norm(Xtest[i] - Xtrain[j]) ** 2))\n",
    "        yhat = np.sign(yhat)\n",
    "        E = np.average(yhat != ytest)\n",
    "        Eout = min(E, Eout)\n",
    "\n",
    "print(Ein)\n",
    "print(Eout)"
   ]
  },
  {
   "cell_type": "code",
   "execution_count": null,
   "metadata": {},
   "outputs": [],
   "source": []
  }
 ],
 "metadata": {
  "kernelspec": {
   "display_name": "Python 3",
   "language": "python",
   "name": "python3"
  },
  "language_info": {
   "codemirror_mode": {
    "name": "ipython",
    "version": 3
   },
   "file_extension": ".py",
   "mimetype": "text/x-python",
   "name": "python",
   "nbconvert_exporter": "python",
   "pygments_lexer": "ipython3",
   "version": "3.7.4"
  }
 },
 "nbformat": 4,
 "nbformat_minor": 4
}
