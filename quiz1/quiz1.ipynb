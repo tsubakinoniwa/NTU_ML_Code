{
 "cells": [
  {
   "cell_type": "code",
   "execution_count": 181,
   "metadata": {},
   "outputs": [],
   "source": [
    "import numpy as np\n",
    "import pandas as pd\n",
    "import time"
   ]
  },
  {
   "cell_type": "code",
   "execution_count": 201,
   "metadata": {},
   "outputs": [],
   "source": [
    "def load_data(file='train.dat'):\n",
    "    arr = np.zeros((0, 6))\n",
    "    with open(file, 'r') as fin:\n",
    "        for line in fin:\n",
    "            arr = np.append(arr, np.ones((1, 6)), axis=0)\n",
    "            line = line.replace('\\t', ' ').split(' ')\n",
    "            for i in range(1, 6):\n",
    "                arr[-1][i] = float(line[i-1])\n",
    "    \n",
    "    return (arr[:,:-1], arr[:,-1])"
   ]
  },
  {
   "cell_type": "code",
   "execution_count": 186,
   "metadata": {},
   "outputs": [],
   "source": [
    "def PLA(X, y):\n",
    "    w = np.zeros(X[0].shape)\n",
    "    n = X.shape[0]\n",
    "    no_err_cnt = 0\n",
    "    i = 0\n",
    "    it = 0\n",
    "    while no_err_cnt < n:\n",
    "        pred_sign = np.sign(w @ X[i])\n",
    "        if pred_sign == 0:\n",
    "            pred_sign = -1\n",
    "        if pred_sign != y[i]:\n",
    "            w += y[i] * X[i]\n",
    "            no_err_cnt = 0\n",
    "            it += 1\n",
    "        else:\n",
    "            no_err_cnt += 1\n",
    "        i = (i + 1) % n\n",
    "    print('Halted in', it, 'iterations.')\n",
    "    return w"
   ]
  },
  {
   "cell_type": "code",
   "execution_count": 187,
   "metadata": {},
   "outputs": [],
   "source": [
    "X, y = load_data()"
   ]
  },
  {
   "cell_type": "code",
   "execution_count": 188,
   "metadata": {},
   "outputs": [
    {
     "name": "stdout",
     "output_type": "stream",
     "text": [
      "Halted in 45 iterations.\n",
      "Error:  0.0\n"
     ]
    }
   ],
   "source": [
    "w = PLA(X, y)\n",
    "print('Error: ', np.sum(np.sign(X@w)-y))"
   ]
  },
  {
   "cell_type": "code",
   "execution_count": 189,
   "metadata": {},
   "outputs": [],
   "source": [
    "def PLA_rnd(X, y):\n",
    "    w = np.zeros(X[0].shape)\n",
    "    n = X.shape[0]\n",
    "    no_err_cnt = 0\n",
    "    i = 0\n",
    "    it = 0\n",
    "    \n",
    "    np.random.seed(int(time.time()*1000000)%int(1e9+7))\n",
    "    seq = np.arange(n)\n",
    "    np.random.shuffle(seq)\n",
    "    \n",
    "    while no_err_cnt < n:\n",
    "        pred_sign = np.sign(w @ X[seq[i]])\n",
    "        if pred_sign == 0:\n",
    "            pred_sign = -1\n",
    "        if pred_sign != y[seq[i]]:\n",
    "            w += y[seq[i]] * X[seq[i]]\n",
    "            no_err_cnt = 0\n",
    "            it += 1\n",
    "        else:\n",
    "            no_err_cnt += 1\n",
    "        i = (i + 1) % n\n",
    "#     print('Halted in', it, 'iterations.')\n",
    "    return it"
   ]
  },
  {
   "cell_type": "code",
   "execution_count": 190,
   "metadata": {},
   "outputs": [],
   "source": [
    "def test_rnd(X, y):\n",
    "    s = 0\n",
    "    for i in range(2000):\n",
    "        s += PLA_rnd(X, y)\n",
    "    print('Halted in (on average)', s / 2000, 'iterations.')"
   ]
  },
  {
   "cell_type": "code",
   "execution_count": 191,
   "metadata": {},
   "outputs": [
    {
     "name": "stdout",
     "output_type": "stream",
     "text": [
      "Halted in (on average) 39.8175 iterations.\n"
     ]
    }
   ],
   "source": [
    "test_rnd(X, y)"
   ]
  },
  {
   "cell_type": "code",
   "execution_count": 192,
   "metadata": {},
   "outputs": [],
   "source": [
    "def PLA_rnd_2(X, y):\n",
    "    w = np.zeros(X[0].shape)\n",
    "    n = X.shape[0]\n",
    "    no_err_cnt = 0\n",
    "    i = 0\n",
    "    it = 0\n",
    "    \n",
    "    np.random.seed(int(time.time()*1000000)%int(1e9+7))\n",
    "    seq = np.arange(n)\n",
    "    np.random.shuffle(seq)\n",
    "    \n",
    "    while no_err_cnt < n:\n",
    "        pred_sign = np.sign(w @ X[seq[i]])\n",
    "        if pred_sign == 0:\n",
    "            pred_sign = -1\n",
    "        if pred_sign != y[seq[i]]:\n",
    "            w += 0.5 * y[seq[i]] * X[seq[i]]\n",
    "            no_err_cnt = 0\n",
    "            it += 1\n",
    "        else:\n",
    "            no_err_cnt += 1\n",
    "        i = (i + 1) % n\n",
    "#     print('Halted in', it, 'iterations.')\n",
    "    return it"
   ]
  },
  {
   "cell_type": "code",
   "execution_count": 193,
   "metadata": {},
   "outputs": [],
   "source": [
    "def test_rnd_2(X, y):\n",
    "    s = 0\n",
    "    for i in range(2000):\n",
    "        s += PLA_rnd_2(X, y)\n",
    "    print('Halted in (on average)', s / 2000, 'iterations.')"
   ]
  },
  {
   "cell_type": "code",
   "execution_count": 194,
   "metadata": {},
   "outputs": [
    {
     "name": "stdout",
     "output_type": "stream",
     "text": [
      "Halted in (on average) 39.671 iterations.\n"
     ]
    }
   ],
   "source": [
    "test_rnd_2(X, y)"
   ]
  },
  {
   "cell_type": "code",
   "execution_count": 281,
   "metadata": {},
   "outputs": [],
   "source": [
    "def pocket(X, y):\n",
    "    w = np.zeros(X[0].shape)\n",
    "    w_best = np.zeros(X[0].shape)\n",
    "    n = X.shape[0]\n",
    "    no_err_cnt = 0\n",
    "    it = 0\n",
    "    \n",
    "    np.random.seed(int(time.time()*1000000)%int(1e9+7))\n",
    "    \n",
    "    while it < 100:\n",
    "        i = np.random.randint(0, n)\n",
    "        pred_sign = np.sign(2*np.sign(w @ X[i])-1)\n",
    "#         pred_sign = np.sign(w @ X[i])\n",
    "#         if pred_sign == 0:\n",
    "#             pred_sign = -1\n",
    "        if pred_sign != y[i]:\n",
    "            w += y[i] * X[i]\n",
    "            \n",
    "            # Check w against w_best\n",
    "            w_err = np.sum(np.sign(2*np.sign(X @ w)-1) != y)\n",
    "            w_best_err = np.sum(np.sign(2*np.sign(X @ w_best)-1) != y)\n",
    "            if w_err < w_best_err:\n",
    "                w_best = w.copy()\n",
    "            \n",
    "            no_err_cnt = 0\n",
    "            it += 1\n",
    "        else:\n",
    "            no_err_cnt += 1\n",
    "#     print('Halted in', it, 'iterations.')\n",
    "    return w_best"
   ]
  },
  {
   "cell_type": "code",
   "execution_count": 282,
   "metadata": {},
   "outputs": [],
   "source": [
    "def test_pocket():\n",
    "    err = 0\n",
    "    X_train, y_train = load_data('hw1_18_train.dat')\n",
    "    X_test, y_test = load_data('hw1_18_test.dat')\n",
    "    for rep in range(2000):\n",
    "        w = pocket(X_train, y_train)\n",
    "#         print(np.sum(np.abs(np.sign(2*np.sign(X_train @ w)-1)-y_train)) / len(y_train))\n",
    "        err += np.sum(np.sign(2*np.sign(X_test @ w)-1) != y_test) / len(y_test)\n",
    "    print(err / 2000)"
   ]
  },
  {
   "cell_type": "code",
   "execution_count": 283,
   "metadata": {},
   "outputs": [
    {
     "name": "stdout",
     "output_type": "stream",
     "text": [
      "0.11634500000000013\n"
     ]
    }
   ],
   "source": [
    "test_pocket()"
   ]
  },
  {
   "cell_type": "code",
   "execution_count": 259,
   "metadata": {},
   "outputs": [
    {
     "data": {
      "text/plain": [
       "array([ 1.        , -1.175936  , -2.824038  , -1.140554  ,  2.30257638])"
      ]
     },
     "execution_count": 259,
     "metadata": {},
     "output_type": "execute_result"
    }
   ],
   "source": [
    "pocket(X_train, y_train)"
   ]
  }
 ],
 "metadata": {
  "kernelspec": {
   "display_name": "Python 3",
   "language": "python",
   "name": "python3"
  },
  "language_info": {
   "codemirror_mode": {
    "name": "ipython",
    "version": 3
   },
   "file_extension": ".py",
   "mimetype": "text/x-python",
   "name": "python",
   "nbconvert_exporter": "python",
   "pygments_lexer": "ipython3",
   "version": "3.7.4"
  },
  "widgets": {
   "application/vnd.jupyter.widget-state+json": {
    "state": {},
    "version_major": 2,
    "version_minor": 0
   }
  }
 },
 "nbformat": 4,
 "nbformat_minor": 4
}
