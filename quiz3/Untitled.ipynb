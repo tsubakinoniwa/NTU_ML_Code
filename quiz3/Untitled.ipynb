{
 "cells": [
  {
   "cell_type": "code",
   "execution_count": 15,
   "metadata": {},
   "outputs": [],
   "source": [
    "from math import exp\n",
    "import numpy as np"
   ]
  },
  {
   "cell_type": "markdown",
   "metadata": {},
   "source": [
    "# Problems 6-10"
   ]
  },
  {
   "cell_type": "code",
   "execution_count": 16,
   "metadata": {},
   "outputs": [],
   "source": [
    "def E(u, v):\n",
    "    return exp(u) + exp(2*v) + exp(u*v) + u**2 - 2*u*v + 2*v*v - 3*u - 2*v"
   ]
  },
  {
   "cell_type": "code",
   "execution_count": 17,
   "metadata": {},
   "outputs": [],
   "source": [
    "def del_E(u, v):\n",
    "    dE_du = exp(u) + v*exp(u*v) + 2*u - 2*v - 3\n",
    "    dE_dv = 2*exp(2*v) + u*exp(u*v) - 2*u + 4*v - 2\n",
    "    return (dE_du, dE_dv)"
   ]
  },
  {
   "cell_type": "code",
   "execution_count": 18,
   "metadata": {},
   "outputs": [],
   "source": [
    "u, v = 0, 0\n",
    "for r in range(5):\n",
    "    du, dv = del_E(u, v)\n",
    "    u -= 0.01*du\n",
    "    v -= 0.01*dv"
   ]
  },
  {
   "cell_type": "code",
   "execution_count": 19,
   "metadata": {},
   "outputs": [
    {
     "data": {
      "text/plain": [
       "2.8250003566832635"
      ]
     },
     "execution_count": 19,
     "metadata": {},
     "output_type": "execute_result"
    }
   ],
   "source": [
    "E(u, v)"
   ]
  },
  {
   "cell_type": "code",
   "execution_count": 21,
   "metadata": {},
   "outputs": [],
   "source": [
    "def H_E(u, v):\n",
    "    return np.array([\n",
    "        [exp(u)+v*v*exp(u*v)+2, exp(u*v)+u*v*exp(u*v)-2],\n",
    "        [exp(u*v)+u*v*exp(u*v)-2, 4*exp(2*v)+u*u*exp(u*v)+4],\n",
    "    ])"
   ]
  },
  {
   "cell_type": "code",
   "execution_count": 27,
   "metadata": {},
   "outputs": [],
   "source": [
    "u, v = 0, 0\n",
    "for _ in range(5):\n",
    "    du, dv = -np.linalg.pinv(H_E(u, v)) @ np.array(del_E(u, v)).reshape(2, 1)\n",
    "    u, v = u+du[0], v+dv[0]"
   ]
  },
  {
   "cell_type": "code",
   "execution_count": 29,
   "metadata": {},
   "outputs": [
    {
     "data": {
      "text/plain": [
       "2.360823345643139"
      ]
     },
     "execution_count": 29,
     "metadata": {},
     "output_type": "execute_result"
    }
   ],
   "source": [
    "E(u, v)"
   ]
  },
  {
   "cell_type": "markdown",
   "metadata": {},
   "source": [
    "# Problems 13-15"
   ]
  },
  {
   "cell_type": "code",
   "execution_count": 283,
   "metadata": {},
   "outputs": [],
   "source": [
    "def gen_data():\n",
    "    X = np.random.random((1000, 2))\n",
    "    y = np.sign(X[:,0]**2 + X[:,1]**2 - 0.6)\n",
    "    subset_ind = np.arange(1000)\n",
    "    np.random.shuffle(subset_ind)\n",
    "    for i in subset_ind[:100]:\n",
    "        y[i] = -1*y[i]\n",
    "    return np.c_[np.ones(1000), X], y.reshape((1000, 1))"
   ]
  },
  {
   "cell_type": "code",
   "execution_count": 284,
   "metadata": {},
   "outputs": [],
   "source": [
    "def lin_reg_Ein(X, y):\n",
    "    X = np.c_[X[:,0], X[:,1], X[:,2], X[:,1]*X[:,2], X[:,1]*X[:,1], X[:,2]*X[:,2]]\n",
    "    w = np.linalg.pinv(X) @ y.reshape((1000, 1))\n",
    "#     print(w)\n",
    "#     return np.average(np.sign(X @ w) != y)\n",
    "    return w"
   ]
  },
  {
   "cell_type": "code",
   "execution_count": 285,
   "metadata": {
    "scrolled": false
   },
   "outputs": [
    {
     "name": "stdout",
     "output_type": "stream",
     "text": [
      "0.12898000000000015\n"
     ]
    }
   ],
   "source": [
    "s = 0\n",
    "for rep in range(1000):\n",
    "    w = lin_reg_Ein(*gen_data())\n",
    "    X, y = gen_data()\n",
    "    X = np.c_[X[:,0], X[:,1], X[:,2], X[:,1]*X[:,2], X[:,1]*X[:,1], X[:,2]*X[:,2]]\n",
    "    s += np.average(np.sign(X @ w).reshape(y.shape) != np.sign(y))\n",
    "print(s/1000)"
   ]
  },
  {
   "cell_type": "markdown",
   "metadata": {},
   "source": [
    "# Problems 18-20"
   ]
  },
  {
   "cell_type": "code",
   "execution_count": 286,
   "metadata": {},
   "outputs": [],
   "source": [
    "import pandas as pd"
   ]
  },
  {
   "cell_type": "code",
   "execution_count": 287,
   "metadata": {},
   "outputs": [],
   "source": [
    "def load_data(file):\n",
    "    X = pd.read_csv(file, header=None, sep=' ').drop([0], axis=1).to_numpy()\n",
    "    X, y = X[:,:-1], X[:,-1]\n",
    "    return np.c_[np.ones(X.shape[0]), X], y"
   ]
  },
  {
   "cell_type": "code",
   "execution_count": 288,
   "metadata": {},
   "outputs": [],
   "source": [
    "def theta(s):\n",
    "    return 1/(1+np.exp(-s))"
   ]
  },
  {
   "cell_type": "code",
   "execution_count": 289,
   "metadata": {},
   "outputs": [],
   "source": [
    "def del_Ein(w, X, y):\n",
    "    N, d = X.shape\n",
    "    w = w.reshape(d)\n",
    "    res = np.zeros(d)\n",
    "    for i in range(N):\n",
    "        res += theta(-y[i]*(w @ X[i]))*(-y[i]*X[i])\n",
    "    return res/N"
   ]
  },
  {
   "cell_type": "code",
   "execution_count": 314,
   "metadata": {},
   "outputs": [],
   "source": [
    "T = 2000\n",
    "eta = 0.001\n",
    "X, y = load_data('train.dat')\n",
    "N, d = X.shape\n",
    "w = np.zeros(X.shape[1])\n",
    "for t in range(T):\n",
    "    ind = t % N\n",
    "#     w -= eta * del_Ein(w, X, y)\n",
    "    w += eta * theta(-y[ind] * (w @ X[ind])) * (y[ind]*X[ind])"
   ]
  },
  {
   "cell_type": "code",
   "execution_count": 315,
   "metadata": {},
   "outputs": [
    {
     "data": {
      "text/plain": [
       "0.473"
      ]
     },
     "execution_count": 315,
     "metadata": {},
     "output_type": "execute_result"
    }
   ],
   "source": [
    "Xtest, ytest = load_data('test.dat')\n",
    "N = Xtest.shape[0]\n",
    "np.average(np.sign((Xtest @ w).reshape(N)) != ytest)"
   ]
  },
  {
   "cell_type": "code",
   "execution_count": null,
   "metadata": {},
   "outputs": [],
   "source": []
  }
 ],
 "metadata": {
  "kernelspec": {
   "display_name": "Python 3",
   "language": "python",
   "name": "python3"
  },
  "language_info": {
   "codemirror_mode": {
    "name": "ipython",
    "version": 3
   },
   "file_extension": ".py",
   "mimetype": "text/x-python",
   "name": "python",
   "nbconvert_exporter": "python",
   "pygments_lexer": "ipython3",
   "version": "3.7.4"
  }
 },
 "nbformat": 4,
 "nbformat_minor": 4
}
