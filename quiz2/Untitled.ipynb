{
 "cells": [
  {
   "cell_type": "markdown",
   "metadata": {},
   "source": [
    "# Quiz 2"
   ]
  },
  {
   "cell_type": "code",
   "execution_count": 52,
   "metadata": {},
   "outputs": [],
   "source": [
    "import numpy as np\n",
    "import pandas as pd\n",
    "from matplotlib import pyplot as plt"
   ]
  },
  {
   "cell_type": "markdown",
   "metadata": {},
   "source": [
    "## Problem 1\n",
    "\n",
    "1. Generate $x$ by a uniform distribution in $[-1,1]$\n",
    "2. Generate $y$ by $f(x)=\\tilde{s}(x)$ where $\\tilde{s}(x)=sign(x)$ and the noise flips the result with $20\\%$ probability."
   ]
  },
  {
   "cell_type": "code",
   "execution_count": 47,
   "metadata": {},
   "outputs": [],
   "source": [
    "def run_stump(n):\n",
    "    x = 1-2*np.random.random(n)\n",
    "    y = np.sign(x)\n",
    "    for i in range(len(y)):\n",
    "        if np.random.random() < 0.2:\n",
    "            y[i] = -y[i]\n",
    "    \n",
    "    x_sorted = [-1, *sorted(x)]\n",
    "    thetas = [(a+b)/2 for a, b in zip(x_sorted[:-1], x_sorted[1:])]\n",
    "    \n",
    "    res = []\n",
    "    min_Ein = 100*n\n",
    "    for s in [-1, 1]:\n",
    "        for theta in thetas:\n",
    "            Ein = (1/n)*np.sum(s*np.sign(x-theta) != y)\n",
    "            if Ein < min_Ein:\n",
    "                res = [(s, theta)]\n",
    "                min_Ein = Ein\n",
    "            elif Ein == min_Ein:\n",
    "                res.append((s, theta))\n",
    "    \n",
    "    s, theta = res[np.random.randint(0, len(res))]\n",
    "#     print(s, theta)\n",
    "    Eout = 0.5 + 0.3*s*(np.abs(theta)-1)\n",
    "    return (min_Ein, Eout)"
   ]
  },
  {
   "cell_type": "code",
   "execution_count": 50,
   "metadata": {},
   "outputs": [
    {
     "name": "stdout",
     "output_type": "stream",
     "text": [
      "Average Ein: 0.16981999999999997\n",
      "Average Eout: 0.2544467113781448\n"
     ]
    }
   ],
   "source": [
    "Ein_s, Eout_s = 0, 0\n",
    "for rep in range(5000):\n",
    "    Ein, Eout = run_stump(20)\n",
    "    Ein_s, Eout_s = Ein_s + Ein, Eout_s + Eout\n",
    "print('Average Ein:', Ein_s / 5000)\n",
    "print('Average Eout:', Eout_s / 5000)"
   ]
  },
  {
   "cell_type": "markdown",
   "metadata": {},
   "source": [
    "## Problem 2"
   ]
  },
  {
   "cell_type": "code",
   "execution_count": 65,
   "metadata": {},
   "outputs": [],
   "source": [
    "def read_data(filename):\n",
    "    dat = pd.read_csv(filename, sep=' ', header=None).to_numpy()[:, 1:]\n",
    "    return dat[:,:-1], dat[:,-1]"
   ]
  },
  {
   "cell_type": "code",
   "execution_count": 108,
   "metadata": {},
   "outputs": [],
   "source": [
    "def nd_stumps(X, y):\n",
    "    n, D = X.shape\n",
    "    \n",
    "    outer_res = []\n",
    "    outer_min_Ein = 1e10\n",
    "    for d in range(D):\n",
    "        x_sorted = [-1, *sorted(X[:,d])]\n",
    "        thetas = [(2*a+3*b)/5 for a, b in zip(x_sorted[:-1], x_sorted[1:])]\n",
    "\n",
    "        res = []\n",
    "        min_Ein = 100*n\n",
    "        for s in [-1, 1]:\n",
    "            for theta in thetas:\n",
    "                Ein = (1/n)*np.sum(s*np.sign(X[:,d]-theta) != y)\n",
    "                if Ein < min_Ein:\n",
    "                    res = [(s, theta, d)]\n",
    "                    min_Ein = Ein\n",
    "                elif Ein == min_Ein:\n",
    "                    res.append((s, theta, d))\n",
    "\n",
    "#         s, theta = res[np.random.randint(0, len(res))]\n",
    "        if min_Ein < outer_min_Ein:\n",
    "            outer_res = [r for r in res]\n",
    "            outer_min_Ein = min_Ein\n",
    "        elif min_Ein == outer_min_Ein:\n",
    "            outer_res.extend(res)\n",
    "    \n",
    "    s, theta, d = outer_res[np.random.randint(0, len(outer_res))]\n",
    "    print(outer_min_Ein, s, theta, d)\n",
    "    return s, theta, d"
   ]
  },
  {
   "cell_type": "code",
   "execution_count": 109,
   "metadata": {},
   "outputs": [],
   "source": [
    "X_train, y_train = read_data('hw2_train.dat')"
   ]
  },
  {
   "cell_type": "code",
   "execution_count": 110,
   "metadata": {},
   "outputs": [
    {
     "name": "stdout",
     "output_type": "stream",
     "text": [
      "0.25 -1 1.6488 3\n"
     ]
    }
   ],
   "source": [
    "s, theta, d = nd_stumps(X_train, y_train)"
   ]
  },
  {
   "cell_type": "code",
   "execution_count": 111,
   "metadata": {},
   "outputs": [],
   "source": [
    "X_test, y_test = read_data('hw2_test.dat')"
   ]
  },
  {
   "cell_type": "code",
   "execution_count": 112,
   "metadata": {},
   "outputs": [
    {
     "data": {
      "text/plain": [
       "0.358"
      ]
     },
     "execution_count": 112,
     "metadata": {},
     "output_type": "execute_result"
    }
   ],
   "source": [
    "(1/len(y_test))*np.sum(s*np.sign(X_test[:,d]-theta) != y_test)"
   ]
  },
  {
   "cell_type": "code",
   "execution_count": null,
   "metadata": {},
   "outputs": [],
   "source": []
  }
 ],
 "metadata": {
  "kernelspec": {
   "display_name": "Python 3",
   "language": "python",
   "name": "python3"
  },
  "language_info": {
   "codemirror_mode": {
    "name": "ipython",
    "version": 3
   },
   "file_extension": ".py",
   "mimetype": "text/x-python",
   "name": "python",
   "nbconvert_exporter": "python",
   "pygments_lexer": "ipython3",
   "version": "3.7.4"
  },
  "widgets": {
   "application/vnd.jupyter.widget-state+json": {
    "state": {},
    "version_major": 2,
    "version_minor": 0
   }
  }
 },
 "nbformat": 4,
 "nbformat_minor": 4
}
