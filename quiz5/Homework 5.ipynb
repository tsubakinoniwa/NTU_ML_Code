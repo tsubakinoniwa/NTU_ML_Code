{
 "cells": [
  {
   "cell_type": "markdown",
   "metadata": {},
   "source": [
    "# Homework 5"
   ]
  },
  {
   "cell_type": "code",
   "execution_count": 1,
   "metadata": {},
   "outputs": [],
   "source": [
    "%matplotlib inline"
   ]
  },
  {
   "cell_type": "code",
   "execution_count": 2,
   "metadata": {},
   "outputs": [],
   "source": [
    "import numpy as np\n",
    "import matplotlib.pyplot as plt"
   ]
  },
  {
   "cell_type": "markdown",
   "metadata": {},
   "source": [
    "## Questions 2-5"
   ]
  },
  {
   "cell_type": "code",
   "execution_count": 85,
   "metadata": {},
   "outputs": [],
   "source": [
    "X = np.array([[1, 0], [0, 1], [0, -1], [-1, 0], [0, 2], [0, -2], [-2, 0]])\n",
    "y = np.array([-1, -1, -1, 1, 1, 1, 1]) * 1.0"
   ]
  },
  {
   "cell_type": "code",
   "execution_count": 4,
   "metadata": {},
   "outputs": [],
   "source": [
    "def phi_1(x):\n",
    "    return x[1]*x[1]-2*x[0]+3\n",
    "\n",
    "def phi_2(x):\n",
    "    return x[0]*x[0]-2*x[1]-3"
   ]
  },
  {
   "cell_type": "code",
   "execution_count": 5,
   "metadata": {},
   "outputs": [
    {
     "data": {
      "image/png": "[encoded data removed]",
      "text/plain": [
       "<Figure size 500x500 with 1 Axes>"
      ]
     },
     "metadata": {
      "needs_background": "light"
     },
     "output_type": "display_data"
    }
   ],
   "source": [
    "fig, ax = plt.subplots(1, 1, dpi=100, figsize=(5, 5));\n",
    "ax.scatter(np.apply_along_axis(phi_1, 1, X), np.apply_along_axis(phi_2, 1, X), c=y, cmap='bwr');\n",
    "plt.show()"
   ]
  },
  {
   "cell_type": "code",
   "execution_count": 69,
   "metadata": {},
   "outputs": [],
   "source": [
    "from cvxopt import matrix, solvers"
   ]
  },
  {
   "cell_type": "code",
   "execution_count": 70,
   "metadata": {},
   "outputs": [],
   "source": [
    "def K(x, xx):\n",
    "    # Kernel function\n",
    "    return (1+x.T@xx) ** 2\n",
    "\n",
    "def phi(x):\n",
    "    # Transformation corresponding to the Kernel function above\n",
    "    x1, x2 = x\n",
    "    return np.array([1, np.sqrt(2)*x1, np.sqrt(2)*x2, x1**2, x1*x2, x2**2, x2*x1])"
   ]
  },
  {
   "cell_type": "code",
   "execution_count": 71,
   "metadata": {},
   "outputs": [],
   "source": [
    "P = np.zeros((7, 7))\n",
    "for i in range(7):\n",
    "    for j in range(7):\n",
    "        P[i, j] = y[i] * y[j] * K(X[i], X[j])\n",
    "#         P[i, j] = y[i] * y[j] * phi(X[i]).T@phi(X[j])\n",
    "P = matrix(P)\n",
    "\n",
    "q = matrix(np.ones(7) * -1.0, (7, 1))\n",
    "G = matrix(np.eye(7) * -1.0, (7, 7))\n",
    "h = matrix(np.zeros(7) * 1.0, (7, 1))\n",
    "A = matrix(y, (1, 7))\n",
    "b = matrix(0.0)"
   ]
  },
  {
   "cell_type": "markdown",
   "metadata": {},
   "source": [
    "**<p style=\"color: red;\">The cvxopt wrapper was slightly modified to work MOSEK version 9.</p>**"
   ]
  },
  {
   "cell_type": "code",
   "execution_count": 72,
   "metadata": {
    "collapsed": true
   },
   "outputs": [
    {
     "name": "stdout",
     "output_type": "stream",
     "text": [
      "Problem\n",
      "  Name                   :                 \n",
      "  Objective sense        : min             \n",
      "  Type                   : QO (quadratic optimization problem)\n",
      "  Constraints            : 8               \n",
      "  Cones                  : 0               \n",
      "  Scalar variables       : 7               \n",
      "  Matrix variables       : 0               \n",
      "  Integer variables      : 0               \n",
      "\n",
      "Optimizer started.\n",
      "Quadratic to conic reformulation started.\n",
      "Quadratic to conic reformulation terminated. Time: 0.00    \n",
      "Presolve started.\n",
      "Linear dependency checker started.\n",
      "Linear dependency checker terminated.\n",
      "Eliminator started.\n",
      "Freed constraints in eliminator : 0\n",
      "Eliminator terminated.\n",
      "Eliminator - tries                  : 1                 time                   : 0.00            \n",
      "Lin. dep.  - tries                  : 1                 time                   : 0.00            \n",
      "Lin. dep.  - number                 : 0               \n",
      "Presolve terminated. Time: 0.00    \n",
      "Problem\n",
      "  Name                   :                 \n",
      "  Objective sense        : min             \n",
      "  Type                   : QO (quadratic optimization problem)\n",
      "  Constraints            : 8               \n",
      "  Cones                  : 0               \n",
      "  Scalar variables       : 7               \n",
      "  Matrix variables       : 0               \n",
      "  Integer variables      : 0               \n",
      "\n",
      "Optimizer  - threads                : 12              \n",
      "Optimizer  - solved problem         : the primal      \n",
      "Optimizer  - Constraints            : 6\n",
      "Optimizer  - Cones                  : 1\n",
      "Optimizer  - Scalar variables       : 14                conic                  : 7               \n",
      "Optimizer  - Semi-definite variables: 0                 scalarized             : 0               \n",
      "Factor     - setup time             : 0.00              dense det. time        : 0.00            \n",
      "Factor     - ML order time          : 0.00              GP order time          : 0.00            \n",
      "Factor     - nonzeros before factor : 21                after factor           : 21              \n",
      "Factor     - dense dim.             : 0                 flops                  : 3.00e+02        \n",
      "ITE PFEAS    DFEAS    GFEAS    PRSTATUS   POBJ              DOBJ              MU       TIME  \n",
      "0   1.0e+00  5.0e-01  2.4e+00  0.00e+00   1.414213562e+00   -1.414213562e+00  1.0e+00  0.01  \n",
      "1   2.0e-01  1.0e-01  3.9e-01  -3.86e-01  -1.784475905e+00  -2.038200489e+00  2.0e-01  0.02  \n",
      "2   4.7e-02  2.4e-02  2.6e-02  1.52e+00   -1.424662054e+00  -1.591386276e+00  4.7e-02  0.02  \n",
      "3   2.9e-03  1.4e-03  4.2e-04  1.24e+00   -1.407645063e+00  -1.414626868e+00  2.9e-03  0.02  \n",
      "4   1.7e-06  8.5e-07  6.0e-09  1.01e+00   -1.407407226e+00  -1.407411467e+00  1.7e-06  0.02  \n",
      "5   5.2e-11  2.6e-11  1.8e-13  1.00e+00   -1.407407407e+00  -1.407407408e+00  5.2e-11  0.02  \n",
      "Optimizer terminated. Time: 0.02    \n",
      "\n",
      "\n",
      "Interior-point solution summary\n",
      "  Problem status  : PRIMAL_AND_DUAL_FEASIBLE\n",
      "  Solution status : OPTIMAL\n",
      "  Primal.  obj: -1.4074074074e+00   nrm: 9e-01    Viol.  con: 3e-11    var: 0e+00  \n",
      "  Dual.    obj: -1.4074074075e+00   nrm: 4e+00    Viol.  con: 0e+00    var: 0e+00  \n"
     ]
    }
   ],
   "source": [
    "sol = solvers.qp(P, q, G, h, A, b, solver='mosek');"
   ]
  },
  {
   "cell_type": "code",
   "execution_count": 73,
   "metadata": {
    "scrolled": true
   },
   "outputs": [
    {
     "name": "stdout",
     "output_type": "stream",
     "text": [
      "2.814814814952377\n"
     ]
    }
   ],
   "source": [
    "alpha = np.array(sol['x']).reshape(7,)\n",
    "print(sum(alpha))"
   ]
  },
  {
   "cell_type": "code",
   "execution_count": 74,
   "metadata": {},
   "outputs": [
    {
     "data": {
      "text/plain": [
       "array([ 6.96906703e-11,  7.03703704e-01,  7.03703704e-01,  8.88888889e-01,\n",
       "        2.59259259e-01,  2.59259259e-01, -2.95686513e-11])"
      ]
     },
     "execution_count": 74,
     "metadata": {},
     "output_type": "execute_result"
    }
   ],
   "source": [
    "alpha"
   ]
  },
  {
   "cell_type": "code",
   "execution_count": 75,
   "metadata": {},
   "outputs": [],
   "source": [
    "b = 0\n",
    "w = np.zeros(7,)\n",
    "sv_ind = -1\n",
    "for i, a in enumerate(alpha):\n",
    "    if a < 1e-10:\n",
    "        continue  # Non-SV\n",
    "    if sv_ind == -1:\n",
    "        sv_ind = i\n",
    "    b += a * y[i] * K(X[i], X[sv_ind])\n",
    "    w += a * y[i] * phi(X[i])\n",
    "b = y[sv_ind] - b"
   ]
  },
  {
   "cell_type": "code",
   "execution_count": 76,
   "metadata": {},
   "outputs": [
    {
     "name": "stdout",
     "output_type": "stream",
     "text": [
      "[ 9.92582683e-11 -1.25707872e+00  2.22044605e-16  8.88888889e-01\n",
      "  0.00000000e+00  6.66666667e-01  0.00000000e+00] -1.6666666668846273\n"
     ]
    }
   ],
   "source": [
    "print(w, b)"
   ]
  },
  {
   "cell_type": "code",
   "execution_count": 79,
   "metadata": {},
   "outputs": [
    {
     "data": {
      "text/plain": [
       "-16.000000001240213"
      ]
     },
     "execution_count": 79,
     "metadata": {},
     "output_type": "execute_result"
    }
   ],
   "source": [
    "np.sqrt(2)*w[1]*9"
   ]
  },
  {
   "cell_type": "markdown",
   "metadata": {},
   "source": [
    "## Questions 15-20"
   ]
  },
  {
   "cell_type": "code",
   "execution_count": 6,
   "metadata": {},
   "outputs": [],
   "source": [
    "from sklearn.svm import SVC\n",
    "import pandas as pd\n",
    "import numpy as np"
   ]
  },
  {
   "cell_type": "code",
   "execution_count": 15,
   "metadata": {},
   "outputs": [],
   "source": [
    "def load_data(file):\n",
    "    arr = pd.read_csv(file, header=None, sep='\\s+').to_numpy()\n",
    "    X, y = arr[:,1:], arr[:,0]\n",
    "\n",
    "    return X, y"
   ]
  },
  {
   "cell_type": "code",
   "execution_count": 8,
   "metadata": {},
   "outputs": [],
   "source": [
    "X, y = load_data('features.train')\n",
    "\n",
    "y[y != 0] = -1.0\n",
    "y[y == 0] = 1.0\n",
    "\n",
    "clf = SVC(C=0.01, kernel='linear')\n",
    "clf.fit(X, y);"
   ]
  },
  {
   "cell_type": "code",
   "execution_count": 9,
   "metadata": {},
   "outputs": [
    {
     "data": {
      "text/plain": [
       "0.5713171494256867"
      ]
     },
     "execution_count": 9,
     "metadata": {},
     "output_type": "execute_result"
    }
   ],
   "source": [
    "w = np.zeros(2,)\n",
    "for i, v in enumerate(clf.support_vectors_):\n",
    "    w += abs(clf.dual_coef_[0, i]) * y[clf.support_[i]] * v\n",
    "np.sqrt(w.T@w)"
   ]
  },
  {
   "cell_type": "code",
   "execution_count": 10,
   "metadata": {},
   "outputs": [
    {
     "name": "stdout",
     "output_type": "stream",
     "text": [
      "Class: 0  0.10588396653408312  21.78\n",
      "Class: 2  0.10026059525442327  14.620000000000001\n",
      "Class: 4  0.08942531888629818  13.04\n",
      "Class: 6  0.09107118365107666  13.28\n",
      "Class: 8  0.07433822520916199  10.84\n"
     ]
    }
   ],
   "source": [
    "X, y_orig = load_data('features.train')\n",
    "for pred_class in range(0, 9, 2):\n",
    "    y = y_orig.copy()\n",
    "    y[y != pred_class] = -1.0\n",
    "    y[y == pred_class] = 1.0\n",
    "    \n",
    "    clf = SVC(C=0.01, kernel='poly', degree=2, gamma=1, coef0=1)\n",
    "    clf.fit(X, y)\n",
    "    \n",
    "    print(f'Class: {pred_class}', end='  ')\n",
    "    print(np.average(clf.predict(X) != y), end='  ')\n",
    "    print(np.sum(np.abs(clf.dual_coef_)))"
   ]
  },
  {
   "cell_type": "code",
   "execution_count": 237,
   "metadata": {},
   "outputs": [
    {
     "data": {
      "text/plain": [
       "{'decision_function_shape': 'ovr',\n",
       " 'break_ties': False,\n",
       " 'kernel': 'poly',\n",
       " 'degree': 2,\n",
       " 'gamma': 1,\n",
       " 'coef0': 1,\n",
       " 'tol': 0.001,\n",
       " 'C': 0.01,\n",
       " 'nu': 0.0,\n",
       " 'epsilon': 0.0,\n",
       " 'shrinking': True,\n",
       " 'probability': False,\n",
       " 'cache_size': 200,\n",
       " 'class_weight': None,\n",
       " 'verbose': False,\n",
       " 'max_iter': -1,\n",
       " 'random_state': None,\n",
       " '_sparse': False,\n",
       " 'class_weight_': array([1., 1.]),\n",
       " 'classes_': array([-1.,  1.]),\n",
       " '_gamma': 1,\n",
       " 'support_': array([   8,   40,   45, ..., 7237, 7251, 7256], dtype=int32),\n",
       " 'support_vectors_': array([[ 0.28954102, -4.644125  ],\n",
       "        [ 0.32469141, -4.671125  ],\n",
       "        [ 0.24815234, -3.5175    ],\n",
       "        ...,\n",
       "        [ 0.24613477, -3.1555    ],\n",
       "        [ 0.14553125, -1.92825   ],\n",
       "        [ 0.25189063, -3.2545    ]]),\n",
       " '_n_support': array([1234,  542], dtype=int32),\n",
       " 'dual_coef_': array([[-0.00318737, -0.00032   , -0.00319313, ...,  0.01      ,\n",
       "          0.01      ,  0.01      ]]),\n",
       " 'intercept_': array([-1.00203226]),\n",
       " 'probA_': array([], dtype=float64),\n",
       " 'probB_': array([], dtype=float64),\n",
       " 'fit_status_': 0,\n",
       " 'shape_fit_': (7291, 2),\n",
       " '_intercept_': array([1.00203226]),\n",
       " '_dual_coef_': array([[ 0.00318737,  0.00032   ,  0.00319313, ..., -0.01      ,\n",
       "         -0.01      , -0.01      ]])}"
      ]
     },
     "execution_count": 237,
     "metadata": {},
     "output_type": "execute_result"
    }
   ],
   "source": [
    "clf.__dict__"
   ]
  },
  {
   "cell_type": "code",
   "execution_count": 16,
   "metadata": {},
   "outputs": [],
   "source": [
    "def K_rbf(x, xx):\n",
    "    v = x - xx\n",
    "    return np.exp(-100 * (v.T @ v))"
   ]
  },
  {
   "cell_type": "code",
   "execution_count": 19,
   "metadata": {},
   "outputs": [
    {
     "name": "stdout",
     "output_type": "stream",
     "text": [
      "C = 0.001\t|w| 0.014739520948422024\txi 2373.260339835891\t|SV| 2398\t0.17887394120577976\n",
      "C = 0.01\t|w| 1.46992031654178\txi 2241.0092380995543\t|SV| 2520\t0.17887394120577976\n",
      "C = 0.1\t|w| 60.23698960642895\txi 1480.8011772435125\t|SV| 2285\t0.10513203786746388\n",
      "C = 1\t|w| 141.183308807142\txi 1330.6625552916203\t|SV| 1783\t0.10363726955655207\n",
      "C = 10\t|w| 592.2144959476586\txi 1273.1157136891864\t|SV| 1675\t0.10463378176382661\n"
     ]
    }
   ],
   "source": [
    "X, y = load_data('features.train')\n",
    "X_test, y_test = load_data('features.test')\n",
    "\n",
    "y[y != 0] = -1.0\n",
    "y[y == 0] = 1.0\n",
    "\n",
    "y_test[y_test != 0] = -1.0\n",
    "y_test[y_test == 0] = 1.0\n",
    "\n",
    "for C in [0.001, 0.01, 0.1, 1, 10]:\n",
    "    clf = SVC(C=C, kernel='rbf', gamma=100)\n",
    "    clf.fit(X, y)\n",
    "    \n",
    "    print(f'C = {C}', end='\\t')\n",
    "    \n",
    "    # Norm of w in Z space\n",
    "    w_norm = 0\n",
    "    for am, vm in zip(clf.dual_coef_[0], clf.support_vectors_):\n",
    "        for an, vn in zip(clf.dual_coef_[0], clf.support_vectors_):\n",
    "            w_norm += am * an * K_rbf(vm, vn)        \n",
    "    print('|w|', w_norm, end='\\t')\n",
    "    \n",
    "    # Xi\n",
    "    xi = 0\n",
    "    for a, v in zip(clf.dual_coef_[0], clf.support_vectors_):\n",
    "        if np.abs(a) < C:\n",
    "            continue  # Free SV\n",
    "        \n",
    "        tmp = 0\n",
    "        for an, vn in zip(clf.dual_coef_[0], clf.support_vectors_):\n",
    "            tmp += an * K_rbf(vn, v)\n",
    "        xi += 1-np.sign(a)*(tmp+clf.intercept_[0])\n",
    "    print('xi', xi, end='\\t')\n",
    "    \n",
    "    # Number of support vectors\n",
    "    print('|SV|', len(clf.support_), end='\\t')\n",
    "    \n",
    "    # Eout\n",
    "    print(np.average(clf.predict(X_test) != y_test))"
   ]
  },
  {
   "cell_type": "code",
   "execution_count": 17,
   "metadata": {},
   "outputs": [
    {
     "name": "stdout",
     "output_type": "stream",
     "text": [
      "gamma = 1.0\t215\n",
      "gamma = 10.0\t199\n",
      "gamma = 100.0\t211\n",
      "gamma = 1000.0\t359\n",
      "gamma = 10000.0\t359\n"
     ]
    }
   ],
   "source": [
    "X, y = load_data('features.train')\n",
    "X_test, y_test = load_data('features.test')\n",
    "\n",
    "# y[y != 0] = -1.0\n",
    "# y[y == 0] = 1.0\n",
    "\n",
    "# y_test[y_test != 0] = -1.0\n",
    "# y_test[y_test == 0] = 1.0\n",
    "\n",
    "y = y == 0\n",
    "y_test = y_test == 0\n",
    "\n",
    "for g in [1.0, 10.0, 100.0, 1000.0, 10000.0]:\n",
    "#     clf = SVC(C=0.1, kernel='rbf', gamma=g)\n",
    "    clf = SVC(kernel='rbf', gamma=g, C=0.1)\n",
    "    clf.fit(X, y)\n",
    "    \n",
    "    print(f'gamma = {g}', end='\\t')\n",
    "    print(np.sum(clf.predict(X_test) != y_test))"
   ]
  },
  {
   "cell_type": "code",
   "execution_count": 18,
   "metadata": {},
   "outputs": [
    {
     "name": "stdout",
     "output_type": "stream",
     "text": [
      "{10: 39, 100: 38, 1: 23}\n"
     ]
    }
   ],
   "source": [
    "X, y = load_data('features.train')\n",
    "X_test, y_test = load_data('features.test')\n",
    "\n",
    "y[y != 0] = -1.0\n",
    "y[y == 0] = 1.0\n",
    "\n",
    "y_test[y_test != 0] = -1.0\n",
    "y_test[y_test == 0] = 1.0\n",
    "\n",
    "inds = np.arange(len(X))\n",
    "cnts = {}\n",
    "\n",
    "for rep in range(100):\n",
    "    min_Eval = float('inf')\n",
    "    chosen_g = -1\n",
    "    for g in [1, 10, 100, 1000, 10000]:\n",
    "        np.random.shuffle(inds)\n",
    "\n",
    "        X_val, y_val = X[inds[:1000]], y[inds[:1000]]\n",
    "        X_train, y_train = X[inds[1000:]], y[inds[1000:]]\n",
    "\n",
    "        clf = SVC(C=0.1, kernel='rbf', gamma=g)\n",
    "        clf.fit(X_train, y_train)\n",
    "        Eval = np.sum(clf.predict(X_val) != y_val)\n",
    "        if Eval < min_Eval:\n",
    "            min_Eval = Eval\n",
    "            chosen_g = g\n",
    "\n",
    "    if chosen_g not in cnts:\n",
    "        cnts[chosen_g] = 0\n",
    "    cnts[chosen_g] += 1\n",
    "\n",
    "print(cnts)"
   ]
  },
  {
   "cell_type": "code",
   "execution_count": null,
   "metadata": {},
   "outputs": [],
   "source": []
  }
 ],
 "metadata": {
  "kernelspec": {
   "display_name": "Python 3",
   "language": "python",
   "name": "python3"
  },
  "language_info": {
   "codemirror_mode": {
    "name": "ipython",
    "version": 3
   },
   "file_extension": ".py",
   "mimetype": "text/x-python",
   "name": "python",
   "nbconvert_exporter": "python",
   "pygments_lexer": "ipython3",
   "version": "3.7.4"
  }
 },
 "nbformat": 4,
 "nbformat_minor": 4
}
