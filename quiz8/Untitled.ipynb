{
 "cells": [
  {
   "cell_type": "code",
   "execution_count": 39,
   "metadata": {
    "tags": []
   },
   "outputs": [],
   "source": [
    "import numpy as np\n",
    "import pandas as pd\n",
    "from tqdm import tqdm\n",
    "from concurrent.futures import ProcessPoolExecutor\n",
    "from IPython.display import clear_output"
   ]
  },
  {
   "cell_type": "code",
   "execution_count": 15,
   "metadata": {},
   "outputs": [],
   "source": [
    "def load_data(data):\n",
    "    arr = pd.read_csv(data, sep=' ', header=None).to_numpy()\n",
    "    return arr[:,:-1], arr[:,-1]"
   ]
  },
  {
   "cell_type": "markdown",
   "metadata": {},
   "source": [
    "# Questions 11-14"
   ]
  },
  {
   "cell_type": "code",
   "execution_count": 7,
   "metadata": {},
   "outputs": [],
   "source": [
    "X_train, y_train = load_data('NNtrain.dat')\n",
    "X_test, y_test = load_data('NNtest.dat')"
   ]
  },
  {
   "cell_type": "code",
   "execution_count": 8,
   "metadata": {},
   "outputs": [],
   "source": [
    "class NeuralNet:\n",
    "    def __init__(self, layers):\n",
    "        self.layers = layers\n",
    "    \n",
    "    def del_tanh(self, x):\n",
    "        return 1-np.tanh(x)*np.tanh(x)\n",
    "    \n",
    "    def fit(self, X_train, y_train, eta, r):\n",
    "        self.weights = [2*r*np.random.random((1+d1, d2))-r \n",
    "                        for d1, d2 in zip(self.layers[:-1], self.layers[1:])]\n",
    "        self.weights = [None, *self.weights]\n",
    "        self.ss = [np.zeros(l) for l in self.layers]\n",
    "        self.xs = [np.ones(l+1) for l in self.layers]\n",
    "        self.deltas = [np.zeros(l) for l in self.layers]\n",
    "        \n",
    "        for t in range(50_000):\n",
    "            idx = np.random.randint(0, len(X_train))\n",
    "            x, y = X_train[idx], y_train[idx]\n",
    "            self.forward(x)\n",
    "            self.backprop(y, eta)\n",
    "    \n",
    "    def forward(self, x):\n",
    "        self.xs[0][1:] = x\n",
    "        for i in range(1, len(self.layers)):\n",
    "            self.ss[i] = self.weights[i].T @ self.xs[i-1]\n",
    "            self.xs[i][1:] = np.tanh(self.ss[i])\n",
    "    \n",
    "    def backprop(self, y, eta):\n",
    "        self.deltas[-1] = -2*(y-np.tanh(self.ss[-1])) * self.del_tanh(self.ss[-1])\n",
    "        self.weights[-1] = self.weights[-1] - eta * (\n",
    "            self.xs[-2].reshape((-1, 1)) @ self.deltas[-1].reshape((-1, 1)).T)\n",
    "        \n",
    "        for i in range(1, len(self.layers)-1)[::-1]:\n",
    "            self.deltas[i] = self.del_tanh(self.ss[i]) * (self.weights[i+1] @ self.deltas[i+1])[1:]\n",
    "            self.weights[i] = self.weights[i] - eta * (\n",
    "                self.xs[i-1].reshape((-1, 1)) @ self.deltas[i].reshape((-1, 1)).T)\n",
    "    \n",
    "    def predict(self, X_test, y_test):\n",
    "        E_out = 0\n",
    "        for i in range(len(X_test)):\n",
    "            x, y = X_test[i], y_test[i]\n",
    "            self.forward(x)\n",
    "            y_pred = np.sign(self.xs[-1][-1])\n",
    "            E_out += (y_pred != y)\n",
    "        return E_out / len(X_test)"
   ]
  },
  {
   "cell_type": "code",
   "execution_count": 41,
   "metadata": {},
   "outputs": [
    {
     "name": "stdout",
     "output_type": "stream",
     "text": [
      "Rep 499: 0.037807999999999904\n",
      "0.037807999999999904\n"
     ]
    }
   ],
   "source": [
    "# Question 14\n",
    "X_train, y_train = load_data('NNtrain.dat')\n",
    "X_test, y_test = load_data('NNtest.dat')\n",
    "\n",
    "d = X_train.shape[1]\n",
    "eta = 0.01\n",
    "r = 0.1\n",
    "\n",
    "tot_Eout = 0\n",
    "for rep in range(500):\n",
    "    nn = NeuralNet([d, 8, 3, 1])\n",
    "    nn.fit(X_train, y_train, eta, r)\n",
    "    tot_Eout += nn.predict(X_test, y_test)\n",
    "    clear_output(wait=True)\n",
    "    print(f'Rep {rep}:', tot_Eout / (rep+1))\n",
    "print(tot_Eout / 500)"
   ]
  },
  {
   "cell_type": "code",
   "execution_count": 23,
   "metadata": {},
   "outputs": [],
   "source": [
    "def run_exp(m, i):\n",
    "    X_train, y_train = load_data('NNtrain.dat')\n",
    "    X_test, y_test = load_data('NNtest.dat')\n",
    "    \n",
    "    d = X_train.shape[1]\n",
    "    eta = 0.1\n",
    "    r = 0.1\n",
    "    \n",
    "    avg_Eout = 0\n",
    "    for rep in trange(500, position=i):\n",
    "        nn = NeuralNet([d, m, 1])\n",
    "        nn.fit(X_train, y_train, eta, r)\n",
    "        avg_Eout += nn.predict(X_test, y_test)\n",
    "    \n",
    "    return (m, avg_Eout/500)"
   ]
  },
  {
   "cell_type": "code",
   "execution_count": 28,
   "metadata": {},
   "outputs": [
    {
     "name": "stdout",
     "output_type": "stream",
     "text": [
      "ok\n"
     ]
    }
   ],
   "source": [
    "with ProcessPoolExecutor(max_workers=5) as exe:\n",
    "    ftrs = []\n",
    "    for i, m in enumerate([1, 6, 11, 16, 21]):\n",
    "        exe.submit(run_exp, (m, i))\n",
    "    for ftr in ftrs:\n",
    "        ftr.wait()\n",
    "        print(ftr.result())"
   ]
  },
  {
   "cell_type": "markdown",
   "metadata": {},
   "source": [
    "## Questions 15-18"
   ]
  },
  {
   "cell_type": "code",
   "execution_count": 102,
   "metadata": {},
   "outputs": [],
   "source": [
    "class kNN:\n",
    "    def __init__(self, k):\n",
    "        self.k = k\n",
    "        \n",
    "    def fit(self, X_train, y_train):\n",
    "        self.X = X_train\n",
    "        self.y = y_train\n",
    "        \n",
    "    def predict(self, X, y):\n",
    "        y_pred = np.zeros(y.shape)\n",
    "        for i in range(len(X)):\n",
    "            x = X[i]\n",
    "            dists = np.sum((self.X-x) ** 2, axis=1)\n",
    "            assert(len(dists) == len(self.y))\n",
    "            inds = np.argsort(dists)\n",
    "            \n",
    "            pred = 0\n",
    "            for idx in inds[:self.k]:\n",
    "                pred += self.y[idx]\n",
    "            y_pred[i] = np.sign(pred)\n",
    "        return np.sum(y != y_pred) / len(y)"
   ]
  },
  {
   "cell_type": "code",
   "execution_count": 113,
   "metadata": {},
   "outputs": [],
   "source": [
    "X_train, y_train = load_data('NBORtrain.dat')\n",
    "X_test, y_test = load_data('NBORtest.dat')"
   ]
  },
  {
   "cell_type": "code",
   "execution_count": 115,
   "metadata": {},
   "outputs": [
    {
     "name": "stdout",
     "output_type": "stream",
     "text": [
      "0.0\n",
      "0.344\n"
     ]
    }
   ],
   "source": [
    "clf = kNN(1)\n",
    "clf.fit(X_train, y_train)\n",
    "print(clf.predict(X_train, y_train))\n",
    "print(clf.predict(X_test, y_test))"
   ]
  },
  {
   "cell_type": "code",
   "execution_count": 114,
   "metadata": {},
   "outputs": [
    {
     "name": "stdout",
     "output_type": "stream",
     "text": [
      "0.16\n",
      "0.316\n"
     ]
    }
   ],
   "source": [
    "clf = kNN(5)\n",
    "clf.fit(X_train, y_train)\n",
    "print(clf.predict(X_train, y_train))\n",
    "print(clf.predict(X_test, y_test))"
   ]
  },
  {
   "cell_type": "markdown",
   "metadata": {},
   "source": [
    "# Questions 19-20"
   ]
  },
  {
   "cell_type": "code",
   "execution_count": 139,
   "metadata": {},
   "outputs": [],
   "source": [
    "X = pd.read_csv('KMeanstrain.dat', sep=' ', header=None).to_numpy()[:,:-1]"
   ]
  },
  {
   "cell_type": "code",
   "execution_count": 150,
   "metadata": {},
   "outputs": [],
   "source": [
    "class kMeans:\n",
    "    def __init__(self, k):\n",
    "        self.k = k\n",
    "    \n",
    "    def fit(self, X):\n",
    "        N, d = X.shape\n",
    "        \n",
    "        self.group = np.ones(N, dtype=int) * -1\n",
    "        self.centers = []\n",
    "        \n",
    "        inds = np.arange(N)\n",
    "        np.random.shuffle(inds)\n",
    "        for i in range(self.k):\n",
    "            idx = inds[i]\n",
    "            self.centers.append(X[idx])\n",
    "        \n",
    "        no_change = False\n",
    "        Ein = 0\n",
    "        # it = 0\n",
    "        while not no_change:\n",
    "            # it += 1\n",
    "            no_change = True\n",
    "            Ein = 0\n",
    "            \n",
    "            # 1st step in optimization\n",
    "            dists = [np.zeros(N) for _ in range(self.k)]\n",
    "            for i in range(self.k):\n",
    "                dists[i] = np.sum((X - self.centers[i]) ** 2, axis=1)\n",
    "                \n",
    "            # Finishing 1st step while starting 2nd step jointly\n",
    "            new_centers = [np.zeros(d) for _ in range(self.k)]\n",
    "            group_sizes = [0 for _ in range(self.k)]\n",
    "            for i in range(N):\n",
    "                chosen_group = -1\n",
    "                chosen_dist = float('inf')\n",
    "                for j in range(self.k):\n",
    "                    if dists[j][i] < chosen_dist:\n",
    "                        chosen_group = j\n",
    "                        chosen_dist = dists[j][i]\n",
    "                \n",
    "                if self.group[i] != chosen_group:\n",
    "                    no_change = False\n",
    "                \n",
    "                self.group[i] = chosen_group\n",
    "                new_centers[chosen_group] += X[i]\n",
    "                group_sizes[chosen_group] += 1\n",
    "            \n",
    "            # Finish 2nd step\n",
    "            for i in range(self.k):\n",
    "                self.centers[i] = new_centers[i] / group_sizes[i]\n",
    "            \n",
    "            # Compute Ein\n",
    "            for i in range(N):\n",
    "                center = self.centers[self.group[i]]\n",
    "                Ein += np.sqrt(np.sum((X[i] - center) ** 2))\n",
    "        \n",
    "        # print(it)\n",
    "        return Ein / N"
   ]
  },
  {
   "cell_type": "code",
   "execution_count": 155,
   "metadata": {},
   "outputs": [
    {
     "name": "stderr",
     "output_type": "stream",
     "text": [
      "100%|██████████| 500/500 [00:07<00:00, 68.91it/s]"
     ]
    },
    {
     "name": "stdout",
     "output_type": "stream",
     "text": [
      "1.6112183753431983\n"
     ]
    },
    {
     "name": "stderr",
     "output_type": "stream",
     "text": [
      "\n"
     ]
    }
   ],
   "source": [
    "avg_Ein = 0\n",
    "for _ in tqdm(range(500)):\n",
    "    clf = kMeans(2)\n",
    "    avg_Ein += clf.fit(X)\n",
    "print(avg_Ein / 500)"
   ]
  },
  {
   "cell_type": "code",
   "execution_count": 157,
   "metadata": {},
   "outputs": [
    {
     "name": "stderr",
     "output_type": "stream",
     "text": [
      "100%|██████████| 500/500 [00:07<00:00, 63.48it/s]"
     ]
    },
    {
     "name": "stdout",
     "output_type": "stream",
     "text": [
      "1.2594087230236506\n"
     ]
    },
    {
     "name": "stderr",
     "output_type": "stream",
     "text": [
      "\n"
     ]
    }
   ],
   "source": [
    "avg_Ein = 0\n",
    "for _ in tqdm(range(500)):\n",
    "    clf = kMeans(10)\n",
    "    avg_Ein += clf.fit(X)\n",
    "print(avg_Ein / 500)"
   ]
  },
  {
   "cell_type": "code",
   "execution_count": null,
   "metadata": {},
   "outputs": [],
   "source": []
  }
 ],
 "metadata": {
  "kernelspec": {
   "display_name": "Python 3.7.4 64-bit ('base': conda)",
   "language": "python",
   "name": "python37464bitbaseconda85de8b719a9b4cb4989ba1ba956dbbf7"
  },
  "language_info": {
   "codemirror_mode": {
    "name": "ipython",
    "version": 3
   },
   "file_extension": ".py",
   "mimetype": "text/x-python",
   "name": "python",
   "nbconvert_exporter": "python",
   "pygments_lexer": "ipython3",
   "version": "3.7.4"
  },
  "widgets": {
   "application/vnd.jupyter.widget-state+json": {
    "state": {},
    "version_major": 2,
    "version_minor": 0
   }
  }
 },
 "nbformat": 4,
 "nbformat_minor": 4
}
