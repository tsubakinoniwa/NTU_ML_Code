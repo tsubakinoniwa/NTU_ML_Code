{
 "cells": [
  {
   "cell_type": "code",
   "execution_count": 1,
   "metadata": {},
   "outputs": [],
   "source": [
    "import numpy as np\n",
    "import pandas as pd"
   ]
  },
  {
   "cell_type": "markdown",
   "metadata": {},
   "source": [
    "# Problem 13"
   ]
  },
  {
   "cell_type": "code",
   "execution_count": 108,
   "metadata": {},
   "outputs": [],
   "source": [
    "def load_data(file):\n",
    "    data = pd.read_csv(file, sep=' ', header=None).to_numpy()\n",
    "    return np.c_[np.ones(len(data)), data[:,:-1]], data[:,-1]"
   ]
  },
  {
   "cell_type": "code",
   "execution_count": 109,
   "metadata": {},
   "outputs": [],
   "source": [
    "def ridge_regression(X, y, l):\n",
    "    A = X.T @ X\n",
    "    return np.linalg.pinv(A + l*np.identity(A.shape[0])) @ X.T @ y"
   ]
  },
  {
   "cell_type": "code",
   "execution_count": 111,
   "metadata": {},
   "outputs": [
    {
     "name": "stdout",
     "output_type": "stream",
     "text": [
      "Ein: 0.05\n",
      "Eout: 0.045\n",
      "norm(w): 3.0583151019411474\n"
     ]
    }
   ],
   "source": [
    "l = 10\n",
    "\n",
    "X_train, y_train = load_data('train.dat')\n",
    "w = ridge_regression(X_train, y_train, l)\n",
    "\n",
    "print('Ein:', np.average(np.sign(X_train @ w) != y_train))\n",
    "\n",
    "X_test, y_test = load_data('test.dat')\n",
    "print('Eout:', np.average(np.sign(X_test @ w) != y_test))\n",
    "\n",
    "print('norm(w):', w.T@w)"
   ]
  },
  {
   "cell_type": "markdown",
   "metadata": {},
   "source": [
    "# Problem 14"
   ]
  },
  {
   "cell_type": "code",
   "execution_count": 100,
   "metadata": {},
   "outputs": [],
   "source": [
    "def experiment(l, X_train, y_train, X_test, y_test, get_w=False):\n",
    "    w = ridge_regression(X_train, y_train, l)\n",
    "    E_in = np.average(np.sign(X_train @ w) != y_train)\n",
    "    E_out = np.average(np.sign(X_test @ w) != y_test)\n",
    "    \n",
    "    if get_w:\n",
    "        return (E_in, E_out, w)\n",
    "    else:\n",
    "        return (E_in, E_out)"
   ]
  },
  {
   "cell_type": "code",
   "execution_count": 97,
   "metadata": {},
   "outputs": [
    {
     "name": "stdout",
     "output_type": "stream",
     "text": [
      "-8\n",
      "0.015\n",
      "0.02\n"
     ]
    }
   ],
   "source": [
    "min_E_in = float('inf')\n",
    "rec_logl = float('inf')\n",
    "rec_E_out = float('inf')\n",
    "\n",
    "for logl in range(-10, 3):\n",
    "    l = 10 ** logl\n",
    "    E_in, E_out = experiment(l, X_train, y_train, X_test, y_test)\n",
    "    \n",
    "    if E_in <= min_E_in:\n",
    "        min_E_in = E_in\n",
    "        rec_logl = logl\n",
    "        rec_E_out = E_out\n",
    "\n",
    "print(rec_logl)\n",
    "print(min_E_in)\n",
    "print(rec_E_out)"
   ]
  },
  {
   "cell_type": "markdown",
   "metadata": {},
   "source": [
    "# Problem 15"
   ]
  },
  {
   "cell_type": "code",
   "execution_count": 99,
   "metadata": {},
   "outputs": [
    {
     "name": "stdout",
     "output_type": "stream",
     "text": [
      "-7\n",
      "0.03\n",
      "0.015\n"
     ]
    }
   ],
   "source": [
    "rec_E_in = float('inf')\n",
    "min_E_out = float('inf')\n",
    "rec_logl = float('inf')\n",
    "\n",
    "for logl in range(-10, 3):\n",
    "    l = 10 ** logl\n",
    "    E_in, E_out = experiment(l, X_train, y_train, X_test, y_test)\n",
    "    \n",
    "    if E_out <= min_E_out:\n",
    "        min_E_out = E_out\n",
    "        rec_logl = logl\n",
    "        rec_E_in = E_in\n",
    "\n",
    "print(rec_logl)\n",
    "print(rec_E_in)\n",
    "print(min_E_out)"
   ]
  },
  {
   "cell_type": "markdown",
   "metadata": {},
   "source": [
    "# Problem 16"
   ]
  },
  {
   "cell_type": "code",
   "execution_count": 102,
   "metadata": {},
   "outputs": [
    {
     "name": "stdout",
     "output_type": "stream",
     "text": [
      "-8\n",
      "0.0\n",
      "0.05\n",
      "0.025\n"
     ]
    }
   ],
   "source": [
    "X, y = load_data('train.dat')\n",
    "X_test, y_test = load_data('test.dat')\n",
    "X_train, y_train, X_eval, y_eval = X[:120], y[:120], X[120:], y[120:]\n",
    "\n",
    "min_E_train = float('inf')\n",
    "rec_E_eval = float('inf')\n",
    "rec_E_out = float('inf')\n",
    "rec_logl = float('inf')\n",
    "\n",
    "for logl in range(-10, 3):\n",
    "    l = 10 ** logl\n",
    "    E_train, E_eval, w = experiment(l, X_train, y_train, X_eval, y_eval, True)\n",
    "    E_out = np.average(np.sign(X_test @ w) != y_test)\n",
    "    \n",
    "    if E_train <= min_E_train:\n",
    "        min_E_train = E_train\n",
    "        rec_E_eval = E_eval\n",
    "        rec_E_out = E_out\n",
    "        rec_logl = logl\n",
    "\n",
    "print(rec_logl)\n",
    "print(min_E_train)\n",
    "print(rec_E_eval)\n",
    "print(rec_E_out)"
   ]
  },
  {
   "cell_type": "markdown",
   "metadata": {},
   "source": [
    "# Problem 17"
   ]
  },
  {
   "cell_type": "code",
   "execution_count": 126,
   "metadata": {},
   "outputs": [
    {
     "name": "stdout",
     "output_type": "stream",
     "text": [
      "0\n",
      "0.03333333333333333\n",
      "0.0375\n",
      "0.028\n"
     ]
    }
   ],
   "source": [
    "X, y = load_data('train.dat')\n",
    "X_test, y_test = load_data('test.dat')\n",
    "X_train, y_train, X_eval, y_eval = X[:120], y[:120], X[120:], y[120:]\n",
    "\n",
    "rec_E_train = float('inf')\n",
    "min_E_eval = float('inf')\n",
    "rec_E_out = float('inf')\n",
    "rec_logl = float('inf')\n",
    "\n",
    "for logl in range(-10, 3):\n",
    "    l = 10 ** logl\n",
    "    E_train, E_eval, w = experiment(l, X_train, y_train, X_eval, y_eval, True)\n",
    "    E_out = np.average(np.sign(X_test @ w) != y_test)\n",
    "    \n",
    "    if E_eval <= min_E_eval:\n",
    "        rec_E_train = E_train\n",
    "        min_E_eval = E_eval\n",
    "        rec_E_out = E_out\n",
    "        rec_logl = logl\n",
    "\n",
    "print(rec_logl)\n",
    "print(rec_E_train)\n",
    "print(min_E_eval)\n",
    "print(rec_E_out)"
   ]
  },
  {
   "cell_type": "markdown",
   "metadata": {},
   "source": [
    "# Problem 18"
   ]
  },
  {
   "cell_type": "code",
   "execution_count": 127,
   "metadata": {},
   "outputs": [
    {
     "data": {
      "text/plain": [
       "(0.035, 0.02)"
      ]
     },
     "execution_count": 127,
     "metadata": {},
     "output_type": "execute_result"
    }
   ],
   "source": [
    "X_train, y_train = load_data('train.dat')\n",
    "experiment(1, X_train, y_train, X_test, y_test)"
   ]
  },
  {
   "cell_type": "markdown",
   "metadata": {},
   "source": [
    "# Problems 19-20"
   ]
  },
  {
   "cell_type": "code",
   "execution_count": 128,
   "metadata": {},
   "outputs": [
    {
     "name": "stdout",
     "output_type": "stream",
     "text": [
      "-8\n",
      "0.03\n"
     ]
    }
   ],
   "source": [
    "min_E_cv = float('inf')\n",
    "rec_logl = float('inf')\n",
    "\n",
    "X, y = load_data('train.dat')\n",
    "for logl in range(-10, 3):\n",
    "    E_cv = 0\n",
    "    \n",
    "    for s_ind in range(0, 200, 40):\n",
    "        mask = np.array([False] * 200)\n",
    "        mask[s_ind:s_ind+40] = True\n",
    "\n",
    "        X_train, y_train = X[~mask], y[~mask]\n",
    "        X_eval, y_eval = X[mask], y[mask]\n",
    "\n",
    "        E_in, E_eval = experiment(10**logl, X_train, y_train, X_eval, y_eval)\n",
    "        E_cv += E_eval\n",
    "    \n",
    "    E_cv /= 5\n",
    "    if E_cv <= min_E_cv:\n",
    "        min_E_cv = E_cv\n",
    "        rec_logl = logl\n",
    "\n",
    "print(rec_logl)\n",
    "print(min_E_cv)"
   ]
  },
  {
   "cell_type": "code",
   "execution_count": 129,
   "metadata": {},
   "outputs": [
    {
     "data": {
      "text/plain": [
       "(0.015, 0.02)"
      ]
     },
     "execution_count": 129,
     "metadata": {},
     "output_type": "execute_result"
    }
   ],
   "source": [
    "X_train, y_train = load_data('train.dat')\n",
    "X_test, y_test = load_data('test.dat')\n",
    "experiment(10**(-8), X_train, y_train, X_test, y_test)"
   ]
  },
  {
   "cell_type": "code",
   "execution_count": null,
   "metadata": {},
   "outputs": [],
   "source": []
  }
 ],
 "metadata": {
  "kernelspec": {
   "display_name": "Python 3",
   "language": "python",
   "name": "python3"
  },
  "language_info": {
   "codemirror_mode": {
    "name": "ipython",
    "version": 3
   },
   "file_extension": ".py",
   "mimetype": "text/x-python",
   "name": "python",
   "nbconvert_exporter": "python",
   "pygments_lexer": "ipython3",
   "version": "3.7.4"
  }
 },
 "nbformat": 4,
 "nbformat_minor": 4
}
